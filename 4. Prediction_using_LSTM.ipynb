{
  "nbformat": 4,
  "nbformat_minor": 0,
  "metadata": {
    "colab": {
      "name": "Prediction using LSTM.ipynb",
      "provenance": [],
      "collapsed_sections": [
        "73nhllZQEmBh",
        "iSjLtFm40iKX",
        "ZIeAjzrfHTRD"
      ]
    },
    "kernelspec": {
      "name": "python3",
      "display_name": "Python 3"
    }
  },
  "cells": [
    {
      "cell_type": "markdown",
      "metadata": {
        "id": "73nhllZQEmBh",
        "colab_type": "text"
      },
      "source": [
        "# Data Mounting and Importing"
      ]
    },
    {
      "cell_type": "code",
      "metadata": {
        "id": "RleZt4RexPtc",
        "colab_type": "code",
        "colab": {
          "base_uri": "https://localhost:8080/",
          "height": 34
        },
        "outputId": "79f28413-0595-45af-de96-799c64c07cd0"
      },
      "source": [
        "from google.colab import drive\n",
        "drive.mount('/content/gdrive')"
      ],
      "execution_count": 1,
      "outputs": [
        {
          "output_type": "stream",
          "text": [
            "Drive already mounted at /content/gdrive; to attempt to forcibly remount, call drive.mount(\"/content/gdrive\", force_remount=True).\n"
          ],
          "name": "stdout"
        }
      ]
    },
    {
      "cell_type": "code",
      "metadata": {
        "id": "1MQ-4HwrxZ6v",
        "colab_type": "code",
        "colab": {}
      },
      "source": [
        "import pandas as pd\n",
        "final_df_total = pd.read_csv('/content/gdrive/My Drive/Colab Notebooks/EC Infosolutions Challenge/New_Restaurant.csv',parse_dates=['dts'])\n"
      ],
      "execution_count": 2,
      "outputs": []
    },
    {
      "cell_type": "code",
      "metadata": {
        "id": "vntRrhdjyADq",
        "colab_type": "code",
        "colab": {
          "base_uri": "https://localhost:8080/",
          "height": 71
        },
        "outputId": "87d2026b-0744-4645-b6d5-fd55b354d0fe"
      },
      "source": [
        "import pandas as pd\n",
        "import numpy as np\n",
        "import matplotlib.pyplot as plt\n",
        "import seaborn as sns\n",
        "from sklearn import preprocessing\n",
        "\n",
        "from tensorflow.keras.models import Sequential\n",
        "from tensorflow.keras.layers import Dense, LSTM, Dropout\n",
        "from tensorflow.keras.models import load_model\n",
        "\n",
        "import time\n",
        "\n",
        "%matplotlib inline"
      ],
      "execution_count": 3,
      "outputs": [
        {
          "output_type": "stream",
          "text": [
            "/usr/local/lib/python3.6/dist-packages/statsmodels/tools/_testing.py:19: FutureWarning: pandas.util.testing is deprecated. Use the functions in the public API at pandas.testing instead.\n",
            "  import pandas.util.testing as tm\n"
          ],
          "name": "stderr"
        }
      ]
    },
    {
      "cell_type": "markdown",
      "metadata": {
        "id": "IAatg57pEtcf",
        "colab_type": "text"
      },
      "source": [
        "## Encoding"
      ]
    },
    {
      "cell_type": "code",
      "metadata": {
        "id": "AsPpix_kzw6p",
        "colab_type": "code",
        "colab": {}
      },
      "source": [
        "from sklearn import linear_model\n",
        "import sklearn.metrics as sklm\n",
        "from sklearn.metrics import mean_squared_error as rmse\n",
        "import numpy as np\n",
        "import numpy.random as nr\n",
        "import scipy.stats as ss\n",
        "import math"
      ],
      "execution_count": 4,
      "outputs": []
    },
    {
      "cell_type": "code",
      "metadata": {
        "id": "e1RRBK-Jx0ta",
        "colab_type": "code",
        "colab": {
          "base_uri": "https://localhost:8080/",
          "height": 51
        },
        "outputId": "c79c7016-8473-41d7-841e-6684867c4a60"
      },
      "source": [
        "print(final_df_total['shift'].unique())\n",
        "Final_Features = final_df_total['shift']\n",
        "enc = preprocessing.LabelEncoder()\n",
        "enc.fit(Final_Features)\n",
        "Final_Features = enc.transform(Final_Features)\n",
        "print(Final_Features)"
      ],
      "execution_count": 5,
      "outputs": [
        {
          "output_type": "stream",
          "text": [
            "['lunch' 'dinner']\n",
            "[1 1 1 ... 0 0 0]\n"
          ],
          "name": "stdout"
        }
      ]
    },
    {
      "cell_type": "code",
      "metadata": {
        "id": "vbIALcGVx290",
        "colab_type": "code",
        "colab": {
          "base_uri": "https://localhost:8080/",
          "height": 306
        },
        "outputId": "807b82f3-c557-4090-8a35-6d709adfe15e"
      },
      "source": [
        "ohe = preprocessing.OneHotEncoder()\n",
        "encoded = ohe.fit(Final_Features.reshape(-1,1))\n",
        "print(Final_Features.reshape(-1,1))\n",
        "Final_Features = encoded.transform(Final_Features.reshape(-1,1)).toarray()\n",
        "Final_Features[:10,:]"
      ],
      "execution_count": 6,
      "outputs": [
        {
          "output_type": "stream",
          "text": [
            "[[1]\n",
            " [1]\n",
            " [1]\n",
            " ...\n",
            " [0]\n",
            " [0]\n",
            " [0]]\n"
          ],
          "name": "stdout"
        },
        {
          "output_type": "execute_result",
          "data": {
            "text/plain": [
              "array([[0., 1.],\n",
              "       [0., 1.],\n",
              "       [0., 1.],\n",
              "       [0., 1.],\n",
              "       [0., 1.],\n",
              "       [0., 1.],\n",
              "       [0., 1.],\n",
              "       [0., 1.],\n",
              "       [0., 1.],\n",
              "       [0., 1.]])"
            ]
          },
          "metadata": {
            "tags": []
          },
          "execution_count": 6
        }
      ]
    },
    {
      "cell_type": "code",
      "metadata": {
        "id": "cfnloMg-yZvU",
        "colab_type": "code",
        "colab": {
          "base_uri": "https://localhost:8080/",
          "height": 136
        },
        "outputId": "f32d68bf-0189-4d98-8d46-c4e13a7bf5c3"
      },
      "source": [
        "def encode_string(cat_feature):\n",
        "    ## First encode the strings to numeric categories\n",
        "    enc = preprocessing.LabelEncoder()\n",
        "    enc.fit(cat_feature)\n",
        "    enc_cat_feature = enc.transform(cat_feature)\n",
        "    ## Now, apply one hot encoding\n",
        "    ohe = preprocessing.OneHotEncoder()\n",
        "    encoded = ohe.fit(enc_cat_feature.reshape(-1,1))\n",
        "    return encoded.transform(enc_cat_feature.reshape(-1,1)).toarray()\n",
        "    \n",
        "\n",
        "categorical_columns = ['weekday', 'party_size','menu_item']\n",
        "\n",
        "for col in categorical_columns:\n",
        "    temp = encode_string(final_df_total[col])\n",
        "    Final_Features = np.concatenate([Final_Features, temp], axis = 1)\n",
        "    #print(Features)\n",
        "\n",
        "print(Final_Features.shape)\n",
        "print(Final_Features[:2, :])    "
      ],
      "execution_count": 7,
      "outputs": [
        {
          "output_type": "stream",
          "text": [
            "(60007, 57)\n",
            "[[0. 1. 0. 1. 0. 0. 0. 0. 0. 0. 0. 0. 1. 0. 0. 0. 0. 0. 0. 0. 0. 0. 0. 0.\n",
            "  0. 0. 0. 0. 0. 1. 0. 0. 0. 0. 0. 0. 0. 0. 0. 0. 0. 0. 0. 0. 0. 0. 0. 0.\n",
            "  0. 0. 0. 0. 0. 0. 0. 0. 0.]\n",
            " [0. 1. 0. 1. 0. 0. 0. 0. 0. 1. 0. 0. 0. 0. 0. 0. 0. 0. 0. 0. 0. 0. 0. 0.\n",
            "  0. 0. 0. 0. 0. 0. 0. 0. 0. 0. 0. 0. 0. 1. 0. 0. 0. 0. 0. 0. 0. 0. 0. 0.\n",
            "  0. 0. 0. 0. 0. 0. 0. 0. 0.]]\n"
          ],
          "name": "stdout"
        }
      ]
    },
    {
      "cell_type": "code",
      "metadata": {
        "id": "NGR49t7SzMvQ",
        "colab_type": "code",
        "colab": {
          "base_uri": "https://localhost:8080/",
          "height": 221
        },
        "outputId": "e85cbf3a-e5ad-4585-86f6-9eeec02f7ec2"
      },
      "source": [
        "Final_Features = np.concatenate([Final_Features, np.array(final_df_total[[\"item_price\"]])], axis = 1)\n",
        "Final_Features[:2,:]"
      ],
      "execution_count": 8,
      "outputs": [
        {
          "output_type": "execute_result",
          "data": {
            "text/plain": [
              "array([[ 0. ,  1. ,  0. ,  1. ,  0. ,  0. ,  0. ,  0. ,  0. ,  0. ,  0. ,\n",
              "         0. ,  1. ,  0. ,  0. ,  0. ,  0. ,  0. ,  0. ,  0. ,  0. ,  0. ,\n",
              "         0. ,  0. ,  0. ,  0. ,  0. ,  0. ,  0. ,  1. ,  0. ,  0. ,  0. ,\n",
              "         0. ,  0. ,  0. ,  0. ,  0. ,  0. ,  0. ,  0. ,  0. ,  0. ,  0. ,\n",
              "         0. ,  0. ,  0. ,  0. ,  0. ,  0. ,  0. ,  0. ,  0. ,  0. ,  0. ,\n",
              "         0. ,  0. ,  3.5],\n",
              "       [ 0. ,  1. ,  0. ,  1. ,  0. ,  0. ,  0. ,  0. ,  0. ,  1. ,  0. ,\n",
              "         0. ,  0. ,  0. ,  0. ,  0. ,  0. ,  0. ,  0. ,  0. ,  0. ,  0. ,\n",
              "         0. ,  0. ,  0. ,  0. ,  0. ,  0. ,  0. ,  0. ,  0. ,  0. ,  0. ,\n",
              "         0. ,  0. ,  0. ,  0. ,  1. ,  0. ,  0. ,  0. ,  0. ,  0. ,  0. ,\n",
              "         0. ,  0. ,  0. ,  0. ,  0. ,  0. ,  0. ,  0. ,  0. ,  0. ,  0. ,\n",
              "         0. ,  0. , 16. ]])"
            ]
          },
          "metadata": {
            "tags": []
          },
          "execution_count": 8
        }
      ]
    },
    {
      "cell_type": "markdown",
      "metadata": {
        "id": "Gghyf1pfE9DW",
        "colab_type": "text"
      },
      "source": [
        "## Scaling"
      ]
    },
    {
      "cell_type": "code",
      "metadata": {
        "id": "_dOlnmaAzNgy",
        "colab_type": "code",
        "colab": {
          "base_uri": "https://localhost:8080/",
          "height": 255
        },
        "outputId": "248e8188-2507-48d4-fa99-1ce9238856d3"
      },
      "source": [
        "scaler = preprocessing.StandardScaler().fit(Final_Features[:,57:])\n",
        "Final_Features[:,57:] = scaler.transform(Final_Features[:,57:])\n",
        "print(Final_Features.shape)\n",
        "Final_Features[:57,:]"
      ],
      "execution_count": 9,
      "outputs": [
        {
          "output_type": "stream",
          "text": [
            "(60007, 58)\n"
          ],
          "name": "stdout"
        },
        {
          "output_type": "execute_result",
          "data": {
            "text/plain": [
              "array([[ 0.        ,  1.        ,  0.        , ...,  0.        ,\n",
              "         0.        , -1.19839166],\n",
              "       [ 0.        ,  1.        ,  0.        , ...,  0.        ,\n",
              "         0.        ,  0.91234308],\n",
              "       [ 0.        ,  1.        ,  0.        , ...,  0.        ,\n",
              "         0.        ,  0.7434843 ],\n",
              "       ...,\n",
              "       [ 0.        ,  1.        ,  0.        , ...,  0.        ,\n",
              "         0.        , -0.43852715],\n",
              "       [ 0.        ,  1.        ,  0.        , ...,  0.        ,\n",
              "         0.        , -1.32503575],\n",
              "       [ 0.        ,  1.        ,  0.        , ...,  0.        ,\n",
              "         0.        , -0.94510349]])"
            ]
          },
          "metadata": {
            "tags": []
          },
          "execution_count": 9
        }
      ]
    },
    {
      "cell_type": "markdown",
      "metadata": {
        "id": "IZpj-dzCFAxr",
        "colab_type": "text"
      },
      "source": [
        "## Train Test Splitting"
      ]
    },
    {
      "cell_type": "code",
      "metadata": {
        "id": "FAPBQHdv11n_",
        "colab_type": "code",
        "colab": {}
      },
      "source": [
        "from sklearn.model_selection import train_test_split\n",
        "nr.seed(9922)\n",
        "labels = np.array(final_df_total['item_qty'])\n",
        "indx = range(Final_Features.shape[0])\n",
        "indx = train_test_split(indx, test_size = 0.25)\n",
        "# print(indx)\n",
        "x_train = Final_Features[indx[0],:]\n",
        "y_train = np.ravel(labels[indx[0]])\n",
        "x_test = Final_Features[indx[1],:]\n",
        "y_test = np.ravel(labels[indx[1]])"
      ],
      "execution_count": 10,
      "outputs": []
    },
    {
      "cell_type": "markdown",
      "metadata": {
        "id": "1x_V_jP3FR5J",
        "colab_type": "text"
      },
      "source": [
        "Function to print metrics"
      ]
    },
    {
      "cell_type": "code",
      "metadata": {
        "id": "WtlFm5Uw8ciS",
        "colab_type": "code",
        "colab": {}
      },
      "source": [
        "def print_metrics(y_true, y_predicted, n_parameters):\n",
        "    ## First compute R^2 and the adjusted R^2\n",
        "    r2 = sklm.r2_score(y_true, y_predicted)\n",
        "    r2_adj = r2 - (n_parameters - 1)/(y_true.shape[0] - n_parameters) * (1 - r2)\n",
        "    \n",
        "    \n",
        "    ## Print the usual metrics and the R^2 values\n",
        "    print('Mean Square Error      = ' + str(sklm.mean_squared_error(y_true, y_predicted)))\n",
        "    print('Root Mean Square Error = ' + str(math.sqrt(sklm.mean_squared_error(y_true, y_predicted))))\n",
        "    print('Mean Absolute Error    = ' + str(sklm.mean_absolute_error(y_true, y_predicted)))\n",
        "    print('Median Absolute Error  = ' + str(sklm.median_absolute_error(y_true, y_predicted)))\n",
        "    print('R^2                    = ' + str(r2))\n",
        "    print('Adjusted R^2           = ' + str(r2_adj))\n",
        "    \n",
        "    return sklm.mean_squared_error(y_true, y_predicted), r2\n",
        "   \n"
      ],
      "execution_count": 11,
      "outputs": []
    },
    {
      "cell_type": "markdown",
      "metadata": {
        "id": "iSjLtFm40iKX",
        "colab_type": "text"
      },
      "source": [
        "# Applying LSTM"
      ]
    },
    {
      "cell_type": "code",
      "metadata": {
        "id": "Vhusbkvmzt59",
        "colab_type": "code",
        "colab": {
          "base_uri": "https://localhost:8080/",
          "height": 34
        },
        "outputId": "df223916-5c87-434b-90c8-e1e8b84ca648"
      },
      "source": [
        "x_train.shape"
      ],
      "execution_count": 12,
      "outputs": [
        {
          "output_type": "execute_result",
          "data": {
            "text/plain": [
              "(45005, 58)"
            ]
          },
          "metadata": {
            "tags": []
          },
          "execution_count": 12
        }
      ]
    },
    {
      "cell_type": "code",
      "metadata": {
        "id": "1M6ni85B0mv8",
        "colab_type": "code",
        "colab": {
          "base_uri": "https://localhost:8080/",
          "height": 34
        },
        "outputId": "586e0028-84f5-4d5d-dade-ba696b9ff7a2"
      },
      "source": [
        "X_train = x_train.reshape((x_train.shape[0], 1, x_train.shape[1]))\n",
        "X_test = x_test.reshape((x_test.shape[0], 1, x_test.shape[1]))\n",
        "X_train.shape"
      ],
      "execution_count": 13,
      "outputs": [
        {
          "output_type": "execute_result",
          "data": {
            "text/plain": [
              "(45005, 1, 58)"
            ]
          },
          "metadata": {
            "tags": []
          },
          "execution_count": 13
        }
      ]
    },
    {
      "cell_type": "code",
      "metadata": {
        "id": "TyV6FVpN2uh9",
        "colab_type": "code",
        "colab": {
          "base_uri": "https://localhost:8080/",
          "height": 459
        },
        "outputId": "c67a58f7-9f38-4dfa-c534-92cea7cdd707"
      },
      "source": [
        "from keras.models import Sequential\n",
        "from keras.layers.recurrent import LSTM\n",
        "from keras.layers import Dense\n",
        "\n",
        "model_results = []\n",
        "\n",
        "def LSTM_model(X_train, y_train, X_test, y_test,batch_size_= 12, dropout_=.3,epochs_=10, samples=24):\n",
        "    \n",
        "\n",
        "    model = Sequential()                                                            \n",
        "    model.add(LSTM(int(samples), input_shape=(X_train.shape[1], X_train.shape[2]))) \n",
        "                                                     \n",
        "    model.add(Dense(1))                                                             \n",
        "    model.compile(loss='mean_squared_error', optimizer='adam')                      \n",
        "                                                                                    \n",
        "    # fit network                                                                   \n",
        "    history = model.fit(X_train,                                                    \n",
        "                        y_train,                                                    \n",
        "                        epochs=epochs_,                                             \n",
        "                        batch_size=batch_size_,                                     \n",
        "                        validation_data=(X_test, y_test),                           \n",
        "                        verbose=1,                                                  \n",
        "                        shuffle=False)                                              \n",
        "                                                                                    \n",
        "    # Save model for later                                                          \n",
        "    #filename = str(int(time.time())) + '_model_' + str(samples) + '_lag.h5'         \n",
        "    #model.save('./models/' + filename)                                              \n",
        "                                                                                    \n",
        "    #################################################################################\n",
        "\n",
        "    # uncomment to load \n",
        "    #model = load_model('./models/1539911055_model_672_lag.h5')\n",
        "\n",
        "    \n",
        "    \n",
        "    y_score = model.predict(X_test) \n",
        "    y_score = [x[0] if x > 0 else 0 for x in y_score]\n",
        "    round_score = [round(num) for num in y_score]\n",
        "    (rmse, r2) = print_metrics(y_test, y_score, 28)\n",
        "    \n",
        "       \n",
        "    \n",
        "    # Save all the results\n",
        "    \n",
        "    model_results_dict = {}\n",
        "\n",
        "    model_results_dict['Algo'] = 'LSTM'\n",
        "    model_results_dict['lag'] = samples\n",
        "    model_results_dict['dropout'] = dropout_\n",
        "    model_results_dict['epochs'] = epochs_\n",
        "    model_results_dict['batch_size'] = batch_size_\n",
        "    model_results_dict['loss'] = history.history\n",
        "    model_results_dict['rmse'] = rmse\n",
        "    #model_results_dict['power_gen_rmse'] = math.sqrt(rmse)\n",
        "    model_results_dict['r2'] = r2\n",
        "    #model_results_dict['model_filename'] = filename\n",
        "    model_results_dict['time_ran'] = int(time.time())\n",
        "    model_results.append(model_results_dict)\n",
        "    \n",
        "    return model\n",
        "\n",
        "model = LSTM_model(X_train,y_train, X_test,y_test)"
      ],
      "execution_count": 14,
      "outputs": [
        {
          "output_type": "stream",
          "text": [
            "Epoch 1/10\n",
            "3751/3751 [==============================] - 8s 2ms/step - loss: 0.1482 - val_loss: 0.0602\n",
            "Epoch 2/10\n",
            "3751/3751 [==============================] - 7s 2ms/step - loss: 0.0595 - val_loss: 0.0584\n",
            "Epoch 3/10\n",
            "3751/3751 [==============================] - 7s 2ms/step - loss: 0.0588 - val_loss: 0.0582\n",
            "Epoch 4/10\n",
            "3751/3751 [==============================] - 7s 2ms/step - loss: 0.0586 - val_loss: 0.0581\n",
            "Epoch 5/10\n",
            "3751/3751 [==============================] - 7s 2ms/step - loss: 0.0585 - val_loss: 0.0580\n",
            "Epoch 6/10\n",
            "3751/3751 [==============================] - 7s 2ms/step - loss: 0.0583 - val_loss: 0.0579\n",
            "Epoch 7/10\n",
            "3751/3751 [==============================] - 7s 2ms/step - loss: 0.0582 - val_loss: 0.0578\n",
            "Epoch 8/10\n",
            "3751/3751 [==============================] - 7s 2ms/step - loss: 0.0582 - val_loss: 0.0577\n",
            "Epoch 9/10\n",
            "3751/3751 [==============================] - 7s 2ms/step - loss: 0.0581 - val_loss: 0.0576\n",
            "Epoch 10/10\n",
            "3751/3751 [==============================] - 7s 2ms/step - loss: 0.0580 - val_loss: 0.0575\n",
            "Mean Square Error      = 0.057538602286503544\n",
            "Root Mean Square Error = 0.23987205399233888\n",
            "Mean Absolute Error    = 0.12056055920884667\n",
            "Median Absolute Error  = 0.02922821044921875\n",
            "R^2                    = 0.8448823983969891\n",
            "Adjusted R^2           = 0.844602701906854\n"
          ],
          "name": "stdout"
        }
      ]
    },
    {
      "cell_type": "code",
      "metadata": {
        "id": "mSHgZYPW28pb",
        "colab_type": "code",
        "colab": {
          "base_uri": "https://localhost:8080/",
          "height": 476
        },
        "outputId": "c27d557d-6cb8-454f-ae12-3504966c94dd"
      },
      "source": [
        "batch_size_ = 12\n",
        "dropout_ =0.33\n",
        "epochs_ = 10\n",
        "samples = 168\n",
        "\n",
        "LSTM_model(X_train,y_train, X_test,y_test, batch_size_, dropout_, epochs_, samples)"
      ],
      "execution_count": 15,
      "outputs": [
        {
          "output_type": "stream",
          "text": [
            "Epoch 1/10\n",
            "3751/3751 [==============================] - 11s 3ms/step - loss: 0.1134 - val_loss: 0.0605\n",
            "Epoch 2/10\n",
            "3751/3751 [==============================] - 11s 3ms/step - loss: 0.0607 - val_loss: 0.0598\n",
            "Epoch 3/10\n",
            "3751/3751 [==============================] - 11s 3ms/step - loss: 0.0599 - val_loss: 0.0593\n",
            "Epoch 4/10\n",
            "3751/3751 [==============================] - 11s 3ms/step - loss: 0.0595 - val_loss: 0.0589\n",
            "Epoch 5/10\n",
            "3751/3751 [==============================] - 11s 3ms/step - loss: 0.0591 - val_loss: 0.0587\n",
            "Epoch 6/10\n",
            "3751/3751 [==============================] - 11s 3ms/step - loss: 0.0589 - val_loss: 0.0584\n",
            "Epoch 7/10\n",
            "3751/3751 [==============================] - 11s 3ms/step - loss: 0.0587 - val_loss: 0.0582\n",
            "Epoch 8/10\n",
            "3751/3751 [==============================] - 11s 3ms/step - loss: 0.0585 - val_loss: 0.0581\n",
            "Epoch 9/10\n",
            "3751/3751 [==============================] - 11s 3ms/step - loss: 0.0583 - val_loss: 0.0579\n",
            "Epoch 10/10\n",
            "3751/3751 [==============================] - 11s 3ms/step - loss: 0.0582 - val_loss: 0.0578\n",
            "Mean Square Error      = 0.0578067430159237\n",
            "Root Mean Square Error = 0.2404303288188154\n",
            "Mean Absolute Error    = 0.12211708126743863\n",
            "Median Absolute Error  = 0.030082285404205322\n",
            "R^2                    = 0.8441595211426438\n",
            "Adjusted R^2           = 0.8438785212141579\n"
          ],
          "name": "stdout"
        },
        {
          "output_type": "execute_result",
          "data": {
            "text/plain": [
              "<tensorflow.python.keras.engine.sequential.Sequential at 0x7fe4e192df60>"
            ]
          },
          "metadata": {
            "tags": []
          },
          "execution_count": 15
        }
      ]
    },
    {
      "cell_type": "code",
      "metadata": {
        "id": "HSGdTPQ24b2l",
        "colab_type": "code",
        "colab": {
          "base_uri": "https://localhost:8080/",
          "height": 969
        },
        "outputId": "a534bec5-81f7-4500-8657-d3a84cbf3193"
      },
      "source": [
        "model_results"
      ],
      "execution_count": 16,
      "outputs": [
        {
          "output_type": "execute_result",
          "data": {
            "text/plain": [
              "[{'Algo': 'LSTM',\n",
              "  'batch_size': 12,\n",
              "  'dropout': 0.3,\n",
              "  'epochs': 10,\n",
              "  'lag': 24,\n",
              "  'loss': {'loss': [0.14819280803203583,\n",
              "    0.059468332678079605,\n",
              "    0.05881808325648308,\n",
              "    0.05861392989754677,\n",
              "    0.058465514332056046,\n",
              "    0.05834463611245155,\n",
              "    0.05824235826730728,\n",
              "    0.05815388634800911,\n",
              "    0.058076027780771255,\n",
              "    0.05800662934780121],\n",
              "   'val_loss': [0.06017571687698364,\n",
              "    0.058432240039110184,\n",
              "    0.058231376111507416,\n",
              "    0.058085180819034576,\n",
              "    0.05796298012137413,\n",
              "    0.05785628780722618,\n",
              "    0.05776207149028778,\n",
              "    0.05767849460244179,\n",
              "    0.05760449543595314,\n",
              "    0.05753860995173454]},\n",
              "  'r2': 0.8448823983969891,\n",
              "  'rmse': 0.057538602286503544,\n",
              "  'time_ran': 1600413020},\n",
              " {'Algo': 'LSTM',\n",
              "  'batch_size': 12,\n",
              "  'dropout': 0.33,\n",
              "  'epochs': 10,\n",
              "  'lag': 168,\n",
              "  'loss': {'loss': [0.11336004734039307,\n",
              "    0.060712940990924835,\n",
              "    0.059943463653326035,\n",
              "    0.05946462228894234,\n",
              "    0.05912057310342789,\n",
              "    0.058862052857875824,\n",
              "    0.058654457330703735,\n",
              "    0.05848435312509537,\n",
              "    0.05834334343671799,\n",
              "    0.058224476873874664],\n",
              "   'val_loss': [0.0604795403778553,\n",
              "    0.05980405583977699,\n",
              "    0.05931601673364639,\n",
              "    0.058946941047906876,\n",
              "    0.05866396799683571,\n",
              "    0.05842745676636696,\n",
              "    0.05823056772351265,\n",
              "    0.058067262172698975,\n",
              "    0.057927247136831284,\n",
              "    0.05780673772096634]},\n",
              "  'r2': 0.8441595211426438,\n",
              "  'rmse': 0.0578067430159237,\n",
              "  'time_ran': 1600413135}]"
            ]
          },
          "metadata": {
            "tags": []
          },
          "execution_count": 16
        }
      ]
    },
    {
      "cell_type": "code",
      "metadata": {
        "id": "3PB26Z4A6mnx",
        "colab_type": "code",
        "colab": {}
      },
      "source": [
        "new_res_df = pd.DataFrame(model_results)\n",
        "# old_res_df = pd.read_csv('result.csv', index_col=0)\n",
        "# res_df = pd.concat([old_res_df, new_res_df], axis=0, sort=False).reset_index(drop=True)\n",
        "new_res_df.to_csv('result.csv')"
      ],
      "execution_count": 17,
      "outputs": []
    },
    {
      "cell_type": "code",
      "metadata": {
        "id": "MZu4ZWwl7JuF",
        "colab_type": "code",
        "colab": {
          "base_uri": "https://localhost:8080/",
          "height": 111
        },
        "outputId": "de4e7193-565d-4610-ca87-33223150297a"
      },
      "source": [
        "models_by_r2 = new_res_df.sort_values(by='r2', ascending=False)\n",
        "models_by_r2.head()"
      ],
      "execution_count": 18,
      "outputs": [
        {
          "output_type": "execute_result",
          "data": {
            "text/html": [
              "<div>\n",
              "<style scoped>\n",
              "    .dataframe tbody tr th:only-of-type {\n",
              "        vertical-align: middle;\n",
              "    }\n",
              "\n",
              "    .dataframe tbody tr th {\n",
              "        vertical-align: top;\n",
              "    }\n",
              "\n",
              "    .dataframe thead th {\n",
              "        text-align: right;\n",
              "    }\n",
              "</style>\n",
              "<table border=\"1\" class=\"dataframe\">\n",
              "  <thead>\n",
              "    <tr style=\"text-align: right;\">\n",
              "      <th></th>\n",
              "      <th>Algo</th>\n",
              "      <th>lag</th>\n",
              "      <th>dropout</th>\n",
              "      <th>epochs</th>\n",
              "      <th>batch_size</th>\n",
              "      <th>loss</th>\n",
              "      <th>rmse</th>\n",
              "      <th>r2</th>\n",
              "      <th>time_ran</th>\n",
              "    </tr>\n",
              "  </thead>\n",
              "  <tbody>\n",
              "    <tr>\n",
              "      <th>0</th>\n",
              "      <td>LSTM</td>\n",
              "      <td>24</td>\n",
              "      <td>0.30</td>\n",
              "      <td>10</td>\n",
              "      <td>12</td>\n",
              "      <td>{'loss': [0.14819280803203583, 0.0594683326780...</td>\n",
              "      <td>0.057539</td>\n",
              "      <td>0.844882</td>\n",
              "      <td>1600413020</td>\n",
              "    </tr>\n",
              "    <tr>\n",
              "      <th>1</th>\n",
              "      <td>LSTM</td>\n",
              "      <td>168</td>\n",
              "      <td>0.33</td>\n",
              "      <td>10</td>\n",
              "      <td>12</td>\n",
              "      <td>{'loss': [0.11336004734039307, 0.0607129409909...</td>\n",
              "      <td>0.057807</td>\n",
              "      <td>0.844160</td>\n",
              "      <td>1600413135</td>\n",
              "    </tr>\n",
              "  </tbody>\n",
              "</table>\n",
              "</div>"
            ],
            "text/plain": [
              "   Algo  lag  dropout  ...      rmse        r2    time_ran\n",
              "0  LSTM   24     0.30  ...  0.057539  0.844882  1600413020\n",
              "1  LSTM  168     0.33  ...  0.057807  0.844160  1600413135\n",
              "\n",
              "[2 rows x 9 columns]"
            ]
          },
          "metadata": {
            "tags": []
          },
          "execution_count": 18
        }
      ]
    },
    {
      "cell_type": "code",
      "metadata": {
        "id": "ZV9o3fMT7TMd",
        "colab_type": "code",
        "colab": {
          "base_uri": "https://localhost:8080/",
          "height": 419
        },
        "outputId": "f548d68d-2596-467e-f344-eedb573245a8"
      },
      "source": [
        "start_date = '2019-07-01'\n",
        "end_date = '2019-07-07'\n",
        "mask = (final_df_total.dts >= start_date) & (final_df_total.dts <= end_date)\n",
        "df_mask = final_df_total.loc[mask]\n",
        "df_mask"
      ],
      "execution_count": 19,
      "outputs": [
        {
          "output_type": "execute_result",
          "data": {
            "text/html": [
              "<div>\n",
              "<style scoped>\n",
              "    .dataframe tbody tr th:only-of-type {\n",
              "        vertical-align: middle;\n",
              "    }\n",
              "\n",
              "    .dataframe tbody tr th {\n",
              "        vertical-align: top;\n",
              "    }\n",
              "\n",
              "    .dataframe thead th {\n",
              "        text-align: right;\n",
              "    }\n",
              "</style>\n",
              "<table border=\"1\" class=\"dataframe\">\n",
              "  <thead>\n",
              "    <tr style=\"text-align: right;\">\n",
              "      <th></th>\n",
              "      <th>dts</th>\n",
              "      <th>shift</th>\n",
              "      <th>weekday</th>\n",
              "      <th>ticket_code</th>\n",
              "      <th>party_size</th>\n",
              "      <th>menu_category</th>\n",
              "      <th>menu_item</th>\n",
              "      <th>item_price</th>\n",
              "      <th>item_qty</th>\n",
              "    </tr>\n",
              "  </thead>\n",
              "  <tbody>\n",
              "    <tr>\n",
              "      <th>2076</th>\n",
              "      <td>2019-07-01 11:30:00</td>\n",
              "      <td>lunch</td>\n",
              "      <td>1</td>\n",
              "      <td>YALE0019</td>\n",
              "      <td>5</td>\n",
              "      <td>Starter</td>\n",
              "      <td>GOBI MANCHURIAN</td>\n",
              "      <td>14.0</td>\n",
              "      <td>2</td>\n",
              "    </tr>\n",
              "    <tr>\n",
              "      <th>2077</th>\n",
              "      <td>2019-07-01 11:30:00</td>\n",
              "      <td>lunch</td>\n",
              "      <td>1</td>\n",
              "      <td>YALE0016</td>\n",
              "      <td>3</td>\n",
              "      <td>VEGETABLE SPECIALS</td>\n",
              "      <td>BAINGAN BARTHA</td>\n",
              "      <td>16.0</td>\n",
              "      <td>1</td>\n",
              "    </tr>\n",
              "    <tr>\n",
              "      <th>2078</th>\n",
              "      <td>2019-07-01 11:35:00</td>\n",
              "      <td>lunch</td>\n",
              "      <td>1</td>\n",
              "      <td>YALE0019</td>\n",
              "      <td>5</td>\n",
              "      <td>BREADS</td>\n",
              "      <td>GARLIC NAAN</td>\n",
              "      <td>3.5</td>\n",
              "      <td>1</td>\n",
              "    </tr>\n",
              "    <tr>\n",
              "      <th>2079</th>\n",
              "      <td>2019-07-01 11:35:00</td>\n",
              "      <td>lunch</td>\n",
              "      <td>1</td>\n",
              "      <td>GRHUB002</td>\n",
              "      <td>1</td>\n",
              "      <td>RICE SPECIALS</td>\n",
              "      <td>CHICKEN BIRYANI</td>\n",
              "      <td>19.0</td>\n",
              "      <td>2</td>\n",
              "    </tr>\n",
              "    <tr>\n",
              "      <th>2080</th>\n",
              "      <td>2019-07-01 11:35:00</td>\n",
              "      <td>lunch</td>\n",
              "      <td>1</td>\n",
              "      <td>YALE0013</td>\n",
              "      <td>3</td>\n",
              "      <td>DESSERTS</td>\n",
              "      <td>RASMALAI</td>\n",
              "      <td>6.0</td>\n",
              "      <td>1</td>\n",
              "    </tr>\n",
              "    <tr>\n",
              "      <th>...</th>\n",
              "      <td>...</td>\n",
              "      <td>...</td>\n",
              "      <td>...</td>\n",
              "      <td>...</td>\n",
              "      <td>...</td>\n",
              "      <td>...</td>\n",
              "      <td>...</td>\n",
              "      <td>...</td>\n",
              "      <td>...</td>\n",
              "    </tr>\n",
              "    <tr>\n",
              "      <th>52034</th>\n",
              "      <td>2019-07-06 22:00:00</td>\n",
              "      <td>dinner</td>\n",
              "      <td>5</td>\n",
              "      <td>YALE0006</td>\n",
              "      <td>3</td>\n",
              "      <td>VEGETABLE SPECIALS</td>\n",
              "      <td>SHAHI PANEER</td>\n",
              "      <td>16.0</td>\n",
              "      <td>1</td>\n",
              "    </tr>\n",
              "    <tr>\n",
              "      <th>52035</th>\n",
              "      <td>2019-07-06 22:00:00</td>\n",
              "      <td>dinner</td>\n",
              "      <td>5</td>\n",
              "      <td>YALE0014</td>\n",
              "      <td>5</td>\n",
              "      <td>DESSERTS</td>\n",
              "      <td>CARROT HALWA</td>\n",
              "      <td>7.0</td>\n",
              "      <td>1</td>\n",
              "    </tr>\n",
              "    <tr>\n",
              "      <th>52036</th>\n",
              "      <td>2019-07-06 22:00:00</td>\n",
              "      <td>dinner</td>\n",
              "      <td>5</td>\n",
              "      <td>GRHUB002</td>\n",
              "      <td>1</td>\n",
              "      <td>BREADS</td>\n",
              "      <td>GARLIC NAAN</td>\n",
              "      <td>3.5</td>\n",
              "      <td>2</td>\n",
              "    </tr>\n",
              "    <tr>\n",
              "      <th>52037</th>\n",
              "      <td>2019-07-06 22:00:00</td>\n",
              "      <td>dinner</td>\n",
              "      <td>5</td>\n",
              "      <td>YALE0019</td>\n",
              "      <td>5</td>\n",
              "      <td>BREADS</td>\n",
              "      <td>GARLIC NAAN</td>\n",
              "      <td>3.5</td>\n",
              "      <td>2</td>\n",
              "    </tr>\n",
              "    <tr>\n",
              "      <th>52038</th>\n",
              "      <td>2019-07-06 22:00:00</td>\n",
              "      <td>dinner</td>\n",
              "      <td>5</td>\n",
              "      <td>YALE0019</td>\n",
              "      <td>5</td>\n",
              "      <td>Starter</td>\n",
              "      <td>MASALA CHICKEN WINGS</td>\n",
              "      <td>14.0</td>\n",
              "      <td>1</td>\n",
              "    </tr>\n",
              "  </tbody>\n",
              "</table>\n",
              "<p>1819 rows × 9 columns</p>\n",
              "</div>"
            ],
            "text/plain": [
              "                      dts   shift  ...  item_price item_qty\n",
              "2076  2019-07-01 11:30:00   lunch  ...        14.0        2\n",
              "2077  2019-07-01 11:30:00   lunch  ...        16.0        1\n",
              "2078  2019-07-01 11:35:00   lunch  ...         3.5        1\n",
              "2079  2019-07-01 11:35:00   lunch  ...        19.0        2\n",
              "2080  2019-07-01 11:35:00   lunch  ...         6.0        1\n",
              "...                   ...     ...  ...         ...      ...\n",
              "52034 2019-07-06 22:00:00  dinner  ...        16.0        1\n",
              "52035 2019-07-06 22:00:00  dinner  ...         7.0        1\n",
              "52036 2019-07-06 22:00:00  dinner  ...         3.5        2\n",
              "52037 2019-07-06 22:00:00  dinner  ...         3.5        2\n",
              "52038 2019-07-06 22:00:00  dinner  ...        14.0        1\n",
              "\n",
              "[1819 rows x 9 columns]"
            ]
          },
          "metadata": {
            "tags": []
          },
          "execution_count": 19
        }
      ]
    },
    {
      "cell_type": "markdown",
      "metadata": {
        "id": "ZIeAjzrfHTRD",
        "colab_type": "text"
      },
      "source": [
        "# Final Output"
      ]
    },
    {
      "cell_type": "code",
      "metadata": {
        "id": "Z80p-_RkCfY_",
        "colab_type": "code",
        "colab": {
          "base_uri": "https://localhost:8080/",
          "height": 1000
        },
        "outputId": "a62648f3-c5a2-4abe-eb42-45176ba1fa8f"
      },
      "source": [
        "pvt = df_mask.pivot_table(values='item_qty', index='menu_item', columns='shift',aggfunc=sum)\n",
        "pvt.sort_values(by=['dinner','lunch'], ascending=False)"
      ],
      "execution_count": 20,
      "outputs": [
        {
          "output_type": "execute_result",
          "data": {
            "text/html": [
              "<div>\n",
              "<style scoped>\n",
              "    .dataframe tbody tr th:only-of-type {\n",
              "        vertical-align: middle;\n",
              "    }\n",
              "\n",
              "    .dataframe tbody tr th {\n",
              "        vertical-align: top;\n",
              "    }\n",
              "\n",
              "    .dataframe thead th {\n",
              "        text-align: right;\n",
              "    }\n",
              "</style>\n",
              "<table border=\"1\" class=\"dataframe\">\n",
              "  <thead>\n",
              "    <tr style=\"text-align: right;\">\n",
              "      <th>shift</th>\n",
              "      <th>dinner</th>\n",
              "      <th>lunch</th>\n",
              "    </tr>\n",
              "    <tr>\n",
              "      <th>menu_item</th>\n",
              "      <th></th>\n",
              "      <th></th>\n",
              "    </tr>\n",
              "  </thead>\n",
              "  <tbody>\n",
              "    <tr>\n",
              "      <th>GARLIC NAAN</th>\n",
              "      <td>179</td>\n",
              "      <td>150</td>\n",
              "    </tr>\n",
              "    <tr>\n",
              "      <th>BUTTER CHICKEN</th>\n",
              "      <td>117</td>\n",
              "      <td>46</td>\n",
              "    </tr>\n",
              "    <tr>\n",
              "      <th>NAAN</th>\n",
              "      <td>94</td>\n",
              "      <td>58</td>\n",
              "    </tr>\n",
              "    <tr>\n",
              "      <th>RICE</th>\n",
              "      <td>77</td>\n",
              "      <td>36</td>\n",
              "    </tr>\n",
              "    <tr>\n",
              "      <th>TANDOORI ROTI</th>\n",
              "      <td>59</td>\n",
              "      <td>28</td>\n",
              "    </tr>\n",
              "    <tr>\n",
              "      <th>MALAI KOFTA</th>\n",
              "      <td>58</td>\n",
              "      <td>44</td>\n",
              "    </tr>\n",
              "    <tr>\n",
              "      <th>FISH CURRY</th>\n",
              "      <td>53</td>\n",
              "      <td>46</td>\n",
              "    </tr>\n",
              "    <tr>\n",
              "      <th>LACHA PARATHA</th>\n",
              "      <td>53</td>\n",
              "      <td>41</td>\n",
              "    </tr>\n",
              "    <tr>\n",
              "      <th>ONION KULCHA</th>\n",
              "      <td>52</td>\n",
              "      <td>39</td>\n",
              "    </tr>\n",
              "    <tr>\n",
              "      <th>RASMALAI</th>\n",
              "      <td>49</td>\n",
              "      <td>35</td>\n",
              "    </tr>\n",
              "    <tr>\n",
              "      <th>GULABJAMUN</th>\n",
              "      <td>46</td>\n",
              "      <td>45</td>\n",
              "    </tr>\n",
              "    <tr>\n",
              "      <th>TASTY FLATBREAD</th>\n",
              "      <td>42</td>\n",
              "      <td>21</td>\n",
              "    </tr>\n",
              "    <tr>\n",
              "      <th>COCKTAIL CHICKEN SAMOSAS</th>\n",
              "      <td>42</td>\n",
              "      <td>17</td>\n",
              "    </tr>\n",
              "    <tr>\n",
              "      <th>CHICKEN SAAG</th>\n",
              "      <td>41</td>\n",
              "      <td>21</td>\n",
              "    </tr>\n",
              "    <tr>\n",
              "      <th>MALPURA</th>\n",
              "      <td>41</td>\n",
              "      <td>18</td>\n",
              "    </tr>\n",
              "    <tr>\n",
              "      <th>VEGETABLE PAKORA</th>\n",
              "      <td>40</td>\n",
              "      <td>34</td>\n",
              "    </tr>\n",
              "    <tr>\n",
              "      <th>KHEER</th>\n",
              "      <td>33</td>\n",
              "      <td>28</td>\n",
              "    </tr>\n",
              "    <tr>\n",
              "      <th>CHICKEN BIRYANI</th>\n",
              "      <td>31</td>\n",
              "      <td>25</td>\n",
              "    </tr>\n",
              "    <tr>\n",
              "      <th>CARROT HALWA</th>\n",
              "      <td>31</td>\n",
              "      <td>19</td>\n",
              "    </tr>\n",
              "    <tr>\n",
              "      <th>PANEER VINDALOO</th>\n",
              "      <td>31</td>\n",
              "      <td>17</td>\n",
              "    </tr>\n",
              "    <tr>\n",
              "      <th>COCONUT CHICKEN CURRY</th>\n",
              "      <td>27</td>\n",
              "      <td>13</td>\n",
              "    </tr>\n",
              "    <tr>\n",
              "      <th>SARSON DA SAAG</th>\n",
              "      <td>26</td>\n",
              "      <td>14</td>\n",
              "    </tr>\n",
              "    <tr>\n",
              "      <th>KADAHI PANEER</th>\n",
              "      <td>24</td>\n",
              "      <td>28</td>\n",
              "    </tr>\n",
              "    <tr>\n",
              "      <th>SHRIMP STRIPS</th>\n",
              "      <td>24</td>\n",
              "      <td>20</td>\n",
              "    </tr>\n",
              "    <tr>\n",
              "      <th>GOBI MANCHURIAN</th>\n",
              "      <td>22</td>\n",
              "      <td>34</td>\n",
              "    </tr>\n",
              "    <tr>\n",
              "      <th>BAINGAN BARTHA</th>\n",
              "      <td>21</td>\n",
              "      <td>18</td>\n",
              "    </tr>\n",
              "    <tr>\n",
              "      <th>TIKKA RICE BOWL : PANEER | CHICKEN</th>\n",
              "      <td>18</td>\n",
              "      <td>18</td>\n",
              "    </tr>\n",
              "    <tr>\n",
              "      <th>CHAAT PAPRI</th>\n",
              "      <td>18</td>\n",
              "      <td>16</td>\n",
              "    </tr>\n",
              "    <tr>\n",
              "      <th>TASTY SLIDERS : CHICKEN PANEER</th>\n",
              "      <td>18</td>\n",
              "      <td>3</td>\n",
              "    </tr>\n",
              "    <tr>\n",
              "      <th>CHICKEN KORMA</th>\n",
              "      <td>17</td>\n",
              "      <td>16</td>\n",
              "    </tr>\n",
              "    <tr>\n",
              "      <th>SPINACH NAAN</th>\n",
              "      <td>16</td>\n",
              "      <td>6</td>\n",
              "    </tr>\n",
              "    <tr>\n",
              "      <th>CHICKEN TIKKA MASALA</th>\n",
              "      <td>15</td>\n",
              "      <td>7</td>\n",
              "    </tr>\n",
              "    <tr>\n",
              "      <th>ALOO PARATHA</th>\n",
              "      <td>15</td>\n",
              "      <td>3</td>\n",
              "    </tr>\n",
              "    <tr>\n",
              "      <th>SHAHI PANEER</th>\n",
              "      <td>14</td>\n",
              "      <td>13</td>\n",
              "    </tr>\n",
              "    <tr>\n",
              "      <th>SPICY CHICKEN BITES</th>\n",
              "      <td>14</td>\n",
              "      <td>6</td>\n",
              "    </tr>\n",
              "    <tr>\n",
              "      <th>FISH PAKORA</th>\n",
              "      <td>12</td>\n",
              "      <td>10</td>\n",
              "    </tr>\n",
              "    <tr>\n",
              "      <th>HARA BHARA KABOB</th>\n",
              "      <td>12</td>\n",
              "      <td>9</td>\n",
              "    </tr>\n",
              "    <tr>\n",
              "      <th>FISH KORMA</th>\n",
              "      <td>12</td>\n",
              "      <td>8</td>\n",
              "    </tr>\n",
              "    <tr>\n",
              "      <th>VEGETABLE SAMOSA</th>\n",
              "      <td>12</td>\n",
              "      <td>5</td>\n",
              "    </tr>\n",
              "    <tr>\n",
              "      <th>KADAHI LAMB</th>\n",
              "      <td>11</td>\n",
              "      <td>10</td>\n",
              "    </tr>\n",
              "    <tr>\n",
              "      <th>MASALA CHICKEN WINGS</th>\n",
              "      <td>8</td>\n",
              "      <td>6</td>\n",
              "    </tr>\n",
              "    <tr>\n",
              "      <th>BHINDI DO PIAZZA</th>\n",
              "      <td>6</td>\n",
              "      <td>5</td>\n",
              "    </tr>\n",
              "    <tr>\n",
              "      <th>YELLOW DAL FRY</th>\n",
              "      <td>4</td>\n",
              "      <td>11</td>\n",
              "    </tr>\n",
              "  </tbody>\n",
              "</table>\n",
              "</div>"
            ],
            "text/plain": [
              "shift                               dinner  lunch\n",
              "menu_item                                        \n",
              "GARLIC NAAN                            179    150\n",
              "BUTTER CHICKEN                         117     46\n",
              "NAAN                                    94     58\n",
              "RICE                                    77     36\n",
              "TANDOORI ROTI                           59     28\n",
              "MALAI KOFTA                             58     44\n",
              "FISH CURRY                              53     46\n",
              "LACHA PARATHA                           53     41\n",
              "ONION KULCHA                            52     39\n",
              "RASMALAI                                49     35\n",
              "GULABJAMUN                              46     45\n",
              "TASTY FLATBREAD                         42     21\n",
              "COCKTAIL CHICKEN SAMOSAS                42     17\n",
              "CHICKEN SAAG                            41     21\n",
              "MALPURA                                 41     18\n",
              "VEGETABLE PAKORA                        40     34\n",
              "KHEER                                   33     28\n",
              "CHICKEN BIRYANI                         31     25\n",
              "CARROT HALWA                            31     19\n",
              "PANEER VINDALOO                         31     17\n",
              "COCONUT CHICKEN CURRY                   27     13\n",
              "SARSON DA SAAG                          26     14\n",
              "KADAHI PANEER                           24     28\n",
              "SHRIMP STRIPS                           24     20\n",
              "GOBI MANCHURIAN                         22     34\n",
              "BAINGAN BARTHA                          21     18\n",
              "TIKKA RICE BOWL : PANEER | CHICKEN      18     18\n",
              "CHAAT PAPRI                             18     16\n",
              "TASTY SLIDERS : CHICKEN PANEER          18      3\n",
              "CHICKEN KORMA                           17     16\n",
              "SPINACH NAAN                            16      6\n",
              "CHICKEN TIKKA MASALA                    15      7\n",
              "ALOO PARATHA                            15      3\n",
              "SHAHI PANEER                            14     13\n",
              "SPICY CHICKEN BITES                     14      6\n",
              "FISH PAKORA                             12     10\n",
              "HARA BHARA KABOB                        12      9\n",
              "FISH KORMA                              12      8\n",
              "VEGETABLE SAMOSA                        12      5\n",
              "KADAHI LAMB                             11     10\n",
              "MASALA CHICKEN WINGS                     8      6\n",
              "BHINDI DO PIAZZA                         6      5\n",
              "YELLOW DAL FRY                           4     11"
            ]
          },
          "metadata": {
            "tags": []
          },
          "execution_count": 20
        }
      ]
    },
    {
      "cell_type": "markdown",
      "metadata": {
        "id": "f1Yq1zanCxfT",
        "colab_type": "text"
      },
      "source": [
        "So, this is the above final result of predicted menu_item and item_quantity with top selling menu's as Garlic naan,  Butten Chicken, naan, Rice etc with respective dinner sales as 179,117,94,77 and lunch sales 21, 17, 21, 18 etc"
      ]
    },
    {
      "cell_type": "code",
      "metadata": {
        "id": "E60iSA57EgV4",
        "colab_type": "code",
        "colab": {}
      },
      "source": [
        ""
      ],
      "execution_count": null,
      "outputs": []
    }
  ]
}