{
  "nbformat": 4,
  "nbformat_minor": 0,
  "metadata": {
    "colab": {
      "name": "Model_Building.ipynb",
      "provenance": [],
      "collapsed_sections": [
        "2OXU_6c1kLV_",
        "QFCCmYNwkrk-",
        "21pJGDcnho8F",
        "3qg7W7D8hr3Z",
        "jp-fGKfjiYqG"
      ]
    },
    "kernelspec": {
      "name": "python3",
      "display_name": "Python 3"
    },
    "accelerator": "GPU"
  },
  "cells": [
    {
      "cell_type": "markdown",
      "metadata": {
        "id": "2OXU_6c1kLV_",
        "colab_type": "text"
      },
      "source": [
        "# Data Importing & EDA of Expanded Data"
      ]
    },
    {
      "cell_type": "markdown",
      "metadata": {
        "id": "QFCCmYNwkrk-",
        "colab_type": "text"
      },
      "source": [
        "## Mounting & importing Data"
      ]
    },
    {
      "cell_type": "code",
      "metadata": {
        "id": "otlodUlhar86",
        "colab_type": "code",
        "colab": {
          "base_uri": "https://localhost:8080/",
          "height": 34
        },
        "outputId": "0c1e491d-aaab-48c1-bbe8-f17fe98f17ef"
      },
      "source": [
        "from google.colab import drive\n",
        "drive.mount('/content/gdrive')"
      ],
      "execution_count": 1,
      "outputs": [
        {
          "output_type": "stream",
          "text": [
            "Mounted at /content/gdrive\n"
          ],
          "name": "stdout"
        }
      ]
    },
    {
      "cell_type": "code",
      "metadata": {
        "id": "9vsaCJ1Vawd7",
        "colab_type": "code",
        "colab": {
          "base_uri": "https://localhost:8080/",
          "height": 34
        },
        "outputId": "ff63b099-2817-4e46-d293-d1b50b124e44"
      },
      "source": [
        "import pandas as pd\n",
        "df = pd.read_csv('/content/gdrive/My Drive/Colab Notebooks/EC Infosolutions Challenge/New_Restaurant.csv',parse_dates=['dts'])\n",
        "df.shape"
      ],
      "execution_count": 2,
      "outputs": [
        {
          "output_type": "execute_result",
          "data": {
            "text/plain": [
              "(60007, 9)"
            ]
          },
          "metadata": {
            "tags": []
          },
          "execution_count": 2
        }
      ]
    },
    {
      "cell_type": "code",
      "metadata": {
        "id": "fHLRxzIabq36",
        "colab_type": "code",
        "colab": {
          "base_uri": "https://localhost:8080/",
          "height": 71
        },
        "outputId": "795260a5-ea46-4fa4-aa18-c38de8a89985"
      },
      "source": [
        "import numpy as np\n",
        "import matplotlib.pyplot as plt\n",
        "import seaborn as sns\n",
        "%matplotlib inline\n",
        "import time\n",
        "import warnings\n",
        "warnings.filterwarnings(\"ignore\")"
      ],
      "execution_count": 3,
      "outputs": [
        {
          "output_type": "stream",
          "text": [
            "/usr/local/lib/python3.6/dist-packages/statsmodels/tools/_testing.py:19: FutureWarning: pandas.util.testing is deprecated. Use the functions in the public API at pandas.testing instead.\n",
            "  import pandas.util.testing as tm\n"
          ],
          "name": "stderr"
        }
      ]
    },
    {
      "cell_type": "markdown",
      "metadata": {
        "id": "p1FgoZUKkhBr",
        "colab_type": "text"
      },
      "source": [
        "## EDA of Expanded Data"
      ]
    },
    {
      "cell_type": "code",
      "metadata": {
        "id": "Gm9J5pOpbtdI",
        "colab_type": "code",
        "colab": {
          "base_uri": "https://localhost:8080/",
          "height": 289
        },
        "outputId": "d637e0d4-9bab-4920-9a20-fb61cf4fd077"
      },
      "source": [
        "df.info()"
      ],
      "execution_count": 4,
      "outputs": [
        {
          "output_type": "stream",
          "text": [
            "<class 'pandas.core.frame.DataFrame'>\n",
            "RangeIndex: 60007 entries, 0 to 60006\n",
            "Data columns (total 9 columns):\n",
            " #   Column         Non-Null Count  Dtype         \n",
            "---  ------         --------------  -----         \n",
            " 0   dts            60007 non-null  datetime64[ns]\n",
            " 1   shift          60007 non-null  object        \n",
            " 2   weekday        60007 non-null  int64         \n",
            " 3   ticket_code    60007 non-null  object        \n",
            " 4   party_size     60007 non-null  int64         \n",
            " 5   menu_category  60007 non-null  object        \n",
            " 6   menu_item      60007 non-null  object        \n",
            " 7   item_price     60007 non-null  float64       \n",
            " 8   item_qty       60007 non-null  int64         \n",
            "dtypes: datetime64[ns](1), float64(1), int64(3), object(4)\n",
            "memory usage: 4.1+ MB\n"
          ],
          "name": "stdout"
        }
      ]
    },
    {
      "cell_type": "code",
      "metadata": {
        "id": "eB76JAzqbxvD",
        "colab_type": "code",
        "colab": {
          "base_uri": "https://localhost:8080/",
          "height": 68
        },
        "outputId": "b48831b4-b0ad-4343-8a88-f9a37b9728ec"
      },
      "source": [
        "df.columns"
      ],
      "execution_count": 5,
      "outputs": [
        {
          "output_type": "execute_result",
          "data": {
            "text/plain": [
              "Index(['dts', 'shift', 'weekday', 'ticket_code', 'party_size', 'menu_category',\n",
              "       'menu_item', 'item_price', 'item_qty'],\n",
              "      dtype='object')"
            ]
          },
          "metadata": {
            "tags": []
          },
          "execution_count": 5
        }
      ]
    },
    {
      "cell_type": "code",
      "metadata": {
        "id": "0h3jwXv-c-78",
        "colab_type": "code",
        "colab": {
          "base_uri": "https://localhost:8080/",
          "height": 136
        },
        "outputId": "38006a7d-af94-4fe3-c866-7cfccbe38b45"
      },
      "source": [
        "df_categorical = df[['shift', 'ticket_code', 'menu_category', 'menu_item']]\n",
        "print(df_categorical.shape)\n",
        "print(df_categorical.head())"
      ],
      "execution_count": 6,
      "outputs": [
        {
          "output_type": "stream",
          "text": [
            "(60007, 4)\n",
            "   shift ticket_code       menu_category       menu_item\n",
            "0  lunch    YALE0001              BREADS     GARLIC NAAN\n",
            "1  lunch     UBER002  VEGETABLE SPECIALS     MALAI KOFTA\n",
            "2  lunch    YALE0009  VEGETABLE SPECIALS  SARSON DA SAAG\n",
            "3  lunch    YALE0019              BREADS            NAAN\n",
            "4  lunch    YALE0010              BREADS            NAAN\n"
          ],
          "name": "stdout"
        }
      ]
    },
    {
      "cell_type": "code",
      "metadata": {
        "id": "KIXEjzfodovQ",
        "colab_type": "code",
        "colab": {
          "base_uri": "https://localhost:8080/",
          "height": 170
        },
        "outputId": "3498fde2-6774-4862-bf8d-011096220516"
      },
      "source": [
        "for i in np.array(df.columns):\n",
        "    print('Unique values in ' + str(i) + ' attribute are {}'.format(len(df[i].unique()))  )"
      ],
      "execution_count": 7,
      "outputs": [
        {
          "output_type": "stream",
          "text": [
            "Unique values in dts attribute are 13394\n",
            "Unique values in shift attribute are 2\n",
            "Unique values in weekday attribute are 7\n",
            "Unique values in ticket_code attribute are 27\n",
            "Unique values in party_size attribute are 5\n",
            "Unique values in menu_category attribute are 8\n",
            "Unique values in menu_item attribute are 43\n",
            "Unique values in item_price attribute are 12\n",
            "Unique values in item_qty attribute are 4\n"
          ],
          "name": "stdout"
        }
      ]
    },
    {
      "cell_type": "code",
      "metadata": {
        "id": "T7SfIlY1dpgO",
        "colab_type": "code",
        "colab": {
          "base_uri": "https://localhost:8080/",
          "height": 1000
        },
        "outputId": "4d4d8e9c-b5fa-46c6-ad3f-572116619be5"
      },
      "source": [
        "sns.set_style(\"whitegrid\")\n",
        "for i, col in enumerate(df_categorical.columns):\n",
        "    plt.figure(i)\n",
        "    plt.figure(figsize=(16,6))\n",
        "    sns.countplot(x=col, data=df_categorical)"
      ],
      "execution_count": 8,
      "outputs": [
        {
          "output_type": "display_data",
          "data": {
            "text/plain": [
              "<Figure size 432x288 with 0 Axes>"
            ]
          },
          "metadata": {
            "tags": []
          }
        },
        {
          "output_type": "display_data",
          "data": {
            "image/png": "[encoded data removed]",
            "text/plain": [
              "<Figure size 1152x432 with 1 Axes>"
            ]
          },
          "metadata": {
            "tags": []
          }
        },
        {
          "output_type": "display_data",
          "data": {
            "image/png": "[encoded data removed]",
            "text/plain": [
              "<Figure size 1152x432 with 1 Axes>"
            ]
          },
          "metadata": {
            "tags": []
          }
        },
        {
          "output_type": "display_data",
          "data": {
            "image/png": "[encoded data removed]",
            "text/plain": [
              "<Figure size 1152x432 with 1 Axes>"
            ]
          },
          "metadata": {
            "tags": []
          }
        },
        {
          "output_type": "display_data",
          "data": {
            "image/png": "[encoded data removed]",
            "text/plain": [
              "<Figure size 1152x432 with 1 Axes>"
            ]
          },
          "metadata": {
            "tags": []
          }
        }
      ]
    },
    {
      "cell_type": "code",
      "metadata": {
        "id": "zADeC4MldtIA",
        "colab_type": "code",
        "colab": {
          "base_uri": "https://localhost:8080/",
          "height": 1000
        },
        "outputId": "f9b23f6a-6a28-46e3-9953-8edda5cef23e"
      },
      "source": [
        "for i, col in enumerate(df_categorical.columns):\n",
        "    print('\\n',i,'.',col)\n",
        "    print(df_categorical[col].value_counts())\n",
        "    print('*'*60,'\\n')"
      ],
      "execution_count": 9,
      "outputs": [
        {
          "output_type": "stream",
          "text": [
            "\n",
            " 0 . shift\n",
            "dinner    36789\n",
            "lunch     23218\n",
            "Name: shift, dtype: int64\n",
            "************************************************************ \n",
            "\n",
            "\n",
            " 1 . ticket_code\n",
            "YALE0019    5806\n",
            "YALE0009    5722\n",
            "YALE0017    3045\n",
            "YALE0007    3042\n",
            "YALE0004    2994\n",
            "YALE0014    2966\n",
            "YALE0018    2761\n",
            "YALE0008    2654\n",
            "GRHUB002    2352\n",
            "YALE0016    2164\n",
            "YALE0006    1993\n",
            "UBER003     1870\n",
            "UBER005     1813\n",
            "YALE0010    1806\n",
            "YALE0020    1794\n",
            "YALE0011    1788\n",
            "YALE0001    1693\n",
            "UBER004     1508\n",
            "UBER002     1508\n",
            "YALE0005    1491\n",
            "YALE0002    1491\n",
            "YALE0015    1482\n",
            "YALE0012    1477\n",
            "UBER001     1209\n",
            "YALE0013    1206\n",
            "YALE0003    1199\n",
            "GRHUB001    1173\n",
            "Name: ticket_code, dtype: int64\n",
            "************************************************************ \n",
            "\n",
            "\n",
            " 2 . menu_category\n",
            "BREADS                 16084\n",
            "Starter                10242\n",
            "DESSERTS                9038\n",
            "VEGETABLE SPECIALS      8399\n",
            "CHICKEN SPECIALS        7709\n",
            "RICE SPECIALS           5464\n",
            "SEAFOOD SPECIALTIES     2444\n",
            "LAMB SPECIALTIES         627\n",
            "Name: menu_category, dtype: int64\n",
            "************************************************************ \n",
            "\n",
            "\n",
            " 3 . menu_item\n",
            "GARLIC NAAN                           6039\n",
            "RICE                                  3664\n",
            "BUTTER CHICKEN                        2971\n",
            "NAAN                                  2945\n",
            "GULABJAMUN                            2405\n",
            "TANDOORI ROTI                         2371\n",
            "ONION KULCHA                          2331\n",
            "KADAHI PANEER                         1869\n",
            "MALPURA                               1860\n",
            "RASMALAI                              1834\n",
            "FISH CURRY                            1810\n",
            "VEGETABLE PAKORA                      1807\n",
            "CARROT HALWA                          1744\n",
            "BAINGAN BARTHA                        1253\n",
            "MALAI KOFTA                           1224\n",
            "COCONUT CHICKEN CURRY                 1224\n",
            "COCKTAIL CHICKEN SAMOSAS              1221\n",
            "GOBI MANCHURIAN                       1197\n",
            "KHEER                                 1195\n",
            "CHICKEN SAAG                          1190\n",
            "LACHA PARATHA                         1188\n",
            "PANEER VINDALOO                       1181\n",
            "CHICKEN KORMA                         1169\n",
            "CHICKEN BIRYANI                       1165\n",
            "SARSON DA SAAG                        1158\n",
            "CHICKEN TIKKA MASALA                  1155\n",
            "TASTY FLATBREAD                       1138\n",
            "TASTY SLIDERS : CHICKEN PANEER         644\n",
            "TIKKA RICE BOWL : PANEER | CHICKEN     635\n",
            "FISH KORMA                             634\n",
            "KADAHI LAMB                            627\n",
            "SPICY CHICKEN BITES                    619\n",
            "ALOO PARATHA                           613\n",
            "CHAAT PAPRI                            607\n",
            "FISH PAKORA                            606\n",
            "VEGETABLE SAMOSA                       605\n",
            "MASALA CHICKEN WINGS                   603\n",
            "SHRIMP STRIPS                          598\n",
            "SPINACH NAAN                           597\n",
            "HARA BHARA KABOB                       597\n",
            "BHINDI DO PIAZZA                       585\n",
            "YELLOW DAL FRY                         565\n",
            "SHAHI PANEER                           564\n",
            "Name: menu_item, dtype: int64\n",
            "************************************************************ \n",
            "\n"
          ],
          "name": "stdout"
        }
      ]
    },
    {
      "cell_type": "code",
      "metadata": {
        "id": "1KCQGH8QdxPr",
        "colab_type": "code",
        "colab": {
          "base_uri": "https://localhost:8080/",
          "height": 297
        },
        "outputId": "4c5e2bbf-b08d-4c8c-a7b9-0cefb254447d"
      },
      "source": [
        "df_numerical = df[['weekday', 'party_size', 'item_price','item_qty']]\n",
        "df_numerical.describe()"
      ],
      "execution_count": 10,
      "outputs": [
        {
          "output_type": "execute_result",
          "data": {
            "text/html": [
              "<div>\n",
              "<style scoped>\n",
              "    .dataframe tbody tr th:only-of-type {\n",
              "        vertical-align: middle;\n",
              "    }\n",
              "\n",
              "    .dataframe tbody tr th {\n",
              "        vertical-align: top;\n",
              "    }\n",
              "\n",
              "    .dataframe thead th {\n",
              "        text-align: right;\n",
              "    }\n",
              "</style>\n",
              "<table border=\"1\" class=\"dataframe\">\n",
              "  <thead>\n",
              "    <tr style=\"text-align: right;\">\n",
              "      <th></th>\n",
              "      <th>weekday</th>\n",
              "      <th>party_size</th>\n",
              "      <th>item_price</th>\n",
              "      <th>item_qty</th>\n",
              "    </tr>\n",
              "  </thead>\n",
              "  <tbody>\n",
              "    <tr>\n",
              "      <th>count</th>\n",
              "      <td>60007.000000</td>\n",
              "      <td>60007.000000</td>\n",
              "      <td>60007.000000</td>\n",
              "      <td>60007.000000</td>\n",
              "    </tr>\n",
              "    <tr>\n",
              "      <th>mean</th>\n",
              "      <td>4.723949</td>\n",
              "      <td>3.348009</td>\n",
              "      <td>10.597005</td>\n",
              "      <td>1.430516</td>\n",
              "    </tr>\n",
              "    <tr>\n",
              "      <th>std</th>\n",
              "      <td>1.967346</td>\n",
              "      <td>1.504692</td>\n",
              "      <td>5.922158</td>\n",
              "      <td>0.604922</td>\n",
              "    </tr>\n",
              "    <tr>\n",
              "      <th>min</th>\n",
              "      <td>1.000000</td>\n",
              "      <td>1.000000</td>\n",
              "      <td>2.750000</td>\n",
              "      <td>1.000000</td>\n",
              "    </tr>\n",
              "    <tr>\n",
              "      <th>25%</th>\n",
              "      <td>3.000000</td>\n",
              "      <td>2.000000</td>\n",
              "      <td>5.000000</td>\n",
              "      <td>1.000000</td>\n",
              "    </tr>\n",
              "    <tr>\n",
              "      <th>50%</th>\n",
              "      <td>5.000000</td>\n",
              "      <td>3.000000</td>\n",
              "      <td>11.000000</td>\n",
              "      <td>1.000000</td>\n",
              "    </tr>\n",
              "    <tr>\n",
              "      <th>75%</th>\n",
              "      <td>6.000000</td>\n",
              "      <td>5.000000</td>\n",
              "      <td>16.000000</td>\n",
              "      <td>2.000000</td>\n",
              "    </tr>\n",
              "    <tr>\n",
              "      <th>max</th>\n",
              "      <td>7.000000</td>\n",
              "      <td>5.000000</td>\n",
              "      <td>19.000000</td>\n",
              "      <td>4.000000</td>\n",
              "    </tr>\n",
              "  </tbody>\n",
              "</table>\n",
              "</div>"
            ],
            "text/plain": [
              "            weekday    party_size    item_price      item_qty\n",
              "count  60007.000000  60007.000000  60007.000000  60007.000000\n",
              "mean       4.723949      3.348009     10.597005      1.430516\n",
              "std        1.967346      1.504692      5.922158      0.604922\n",
              "min        1.000000      1.000000      2.750000      1.000000\n",
              "25%        3.000000      2.000000      5.000000      1.000000\n",
              "50%        5.000000      3.000000     11.000000      1.000000\n",
              "75%        6.000000      5.000000     16.000000      2.000000\n",
              "max        7.000000      5.000000     19.000000      4.000000"
            ]
          },
          "metadata": {
            "tags": []
          },
          "execution_count": 10
        }
      ]
    },
    {
      "cell_type": "code",
      "metadata": {
        "id": "icfhNCDOeUb5",
        "colab_type": "code",
        "colab": {
          "base_uri": "https://localhost:8080/",
          "height": 0
        },
        "outputId": "d3c4abe1-7cf9-4d93-835d-465542b95f30"
      },
      "source": [
        "for i, col in enumerate(df_numerical.columns):\n",
        "    plt.figure(i)\n",
        "    plt.figure(figsize=(16,6))\n",
        "    sns.countplot(x=col, data=df_numerical)"
      ],
      "execution_count": 11,
      "outputs": [
        {
          "output_type": "display_data",
          "data": {
            "text/plain": [
              "<Figure size 432x288 with 0 Axes>"
            ]
          },
          "metadata": {
            "tags": []
          }
        },
        {
          "output_type": "display_data",
          "data": {
            "image/png": "[encoded data removed]",
            "text/plain": [
              "<Figure size 1152x432 with 1 Axes>"
            ]
          },
          "metadata": {
            "tags": []
          }
        },
        {
          "output_type": "display_data",
          "data": {
            "image/png": "[encoded data removed]",
            "text/plain": [
              "<Figure size 1152x432 with 1 Axes>"
            ]
          },
          "metadata": {
            "tags": []
          }
        },
        {
          "output_type": "display_data",
          "data": {
            "image/png": "[encoded data removed]",
            "text/plain": [
              "<Figure size 1152x432 with 1 Axes>"
            ]
          },
          "metadata": {
            "tags": []
          }
        },
        {
          "output_type": "display_data",
          "data": {
            "image/png": "[encoded data removed]",
            "text/plain": [
              "<Figure size 1152x432 with 1 Axes>"
            ]
          },
          "metadata": {
            "tags": []
          }
        }
      ]
    },
    {
      "cell_type": "code",
      "metadata": {
        "id": "VUejEi9GeavO",
        "colab_type": "code",
        "colab": {
          "base_uri": "https://localhost:8080/",
          "height": 0
        },
        "outputId": "f1786b4b-8bff-4443-8075-e5d80599cabe"
      },
      "source": [
        "plt.figure(figsize=(12,12))\n",
        "sns.pairplot(df_numerical)"
      ],
      "execution_count": 12,
      "outputs": [
        {
          "output_type": "execute_result",
          "data": {
            "text/plain": [
              "<seaborn.axisgrid.PairGrid at 0x7f0aec8e0a58>"
            ]
          },
          "metadata": {
            "tags": []
          },
          "execution_count": 12
        },
        {
          "output_type": "display_data",
          "data": {
            "text/plain": [
              "<Figure size 864x864 with 0 Axes>"
            ]
          },
          "metadata": {
            "tags": []
          }
        },
        {
          "output_type": "display_data",
          "data": {
            "image/png": "[encoded data removed]",
            "text/plain": [
              "<Figure size 720x720 with 20 Axes>"
            ]
          },
          "metadata": {
            "tags": []
          }
        }
      ]
    },
    {
      "cell_type": "code",
      "metadata": {
        "id": "Tlg3JB5qeraD",
        "colab_type": "code",
        "colab": {
          "base_uri": "https://localhost:8080/",
          "height": 0
        },
        "outputId": "c477c62f-a0a6-408e-c154-7c00dfdfbdcc"
      },
      "source": [
        "plt.figure(figsize=(6, 6))\n",
        "sns.heatmap(df_numerical[['item_price','item_qty']].corr(), cmap='Greens', annot=True)\n",
        "plt.title('Feature correlation');"
      ],
      "execution_count": 13,
      "outputs": [
        {
          "output_type": "display_data",
          "data": {
            "image/png": "[encoded data removed]",
            "text/plain": [
              "<Figure size 432x432 with 2 Axes>"
            ]
          },
          "metadata": {
            "tags": []
          }
        }
      ]
    },
    {
      "cell_type": "markdown",
      "metadata": {
        "id": "7ZUDhhpef6JY",
        "colab_type": "text"
      },
      "source": [
        "## Converting To Dummies"
      ]
    },
    {
      "cell_type": "code",
      "metadata": {
        "id": "oqQdxLdnfRDD",
        "colab_type": "code",
        "colab": {
          "base_uri": "https://localhost:8080/",
          "height": 0
        },
        "outputId": "c77fef57-7c0b-4464-f4c8-36f226fb71f4"
      },
      "source": [
        "df_new = pd.get_dummies(df, columns=df_categorical.columns, drop_first=True)\n",
        "print(df_new.shape)\n",
        "df_new.head()"
      ],
      "execution_count": 14,
      "outputs": [
        {
          "output_type": "stream",
          "text": [
            "(60007, 81)\n"
          ],
          "name": "stdout"
        },
        {
          "output_type": "execute_result",
          "data": {
            "text/html": [
              "<div>\n",
              "<style scoped>\n",
              "    .dataframe tbody tr th:only-of-type {\n",
              "        vertical-align: middle;\n",
              "    }\n",
              "\n",
              "    .dataframe tbody tr th {\n",
              "        vertical-align: top;\n",
              "    }\n",
              "\n",
              "    .dataframe thead th {\n",
              "        text-align: right;\n",
              "    }\n",
              "</style>\n",
              "<table border=\"1\" class=\"dataframe\">\n",
              "  <thead>\n",
              "    <tr style=\"text-align: right;\">\n",
              "      <th></th>\n",
              "      <th>dts</th>\n",
              "      <th>weekday</th>\n",
              "      <th>party_size</th>\n",
              "      <th>item_price</th>\n",
              "      <th>item_qty</th>\n",
              "      <th>shift_lunch</th>\n",
              "      <th>ticket_code_GRHUB002</th>\n",
              "      <th>ticket_code_UBER001</th>\n",
              "      <th>ticket_code_UBER002</th>\n",
              "      <th>ticket_code_UBER003</th>\n",
              "      <th>ticket_code_UBER004</th>\n",
              "      <th>ticket_code_UBER005</th>\n",
              "      <th>ticket_code_YALE0001</th>\n",
              "      <th>ticket_code_YALE0002</th>\n",
              "      <th>ticket_code_YALE0003</th>\n",
              "      <th>ticket_code_YALE0004</th>\n",
              "      <th>ticket_code_YALE0005</th>\n",
              "      <th>ticket_code_YALE0006</th>\n",
              "      <th>ticket_code_YALE0007</th>\n",
              "      <th>ticket_code_YALE0008</th>\n",
              "      <th>ticket_code_YALE0009</th>\n",
              "      <th>ticket_code_YALE0010</th>\n",
              "      <th>ticket_code_YALE0011</th>\n",
              "      <th>ticket_code_YALE0012</th>\n",
              "      <th>ticket_code_YALE0013</th>\n",
              "      <th>ticket_code_YALE0014</th>\n",
              "      <th>ticket_code_YALE0015</th>\n",
              "      <th>ticket_code_YALE0016</th>\n",
              "      <th>ticket_code_YALE0017</th>\n",
              "      <th>ticket_code_YALE0018</th>\n",
              "      <th>ticket_code_YALE0019</th>\n",
              "      <th>ticket_code_YALE0020</th>\n",
              "      <th>menu_category_CHICKEN SPECIALS</th>\n",
              "      <th>menu_category_DESSERTS</th>\n",
              "      <th>menu_category_LAMB SPECIALTIES</th>\n",
              "      <th>menu_category_RICE SPECIALS</th>\n",
              "      <th>menu_category_SEAFOOD SPECIALTIES</th>\n",
              "      <th>menu_category_Starter</th>\n",
              "      <th>menu_category_VEGETABLE SPECIALS</th>\n",
              "      <th>menu_item_BAINGAN BARTHA</th>\n",
              "      <th>...</th>\n",
              "      <th>menu_item_BUTTER CHICKEN</th>\n",
              "      <th>menu_item_CARROT HALWA</th>\n",
              "      <th>menu_item_CHAAT PAPRI</th>\n",
              "      <th>menu_item_CHICKEN BIRYANI</th>\n",
              "      <th>menu_item_CHICKEN KORMA</th>\n",
              "      <th>menu_item_CHICKEN SAAG</th>\n",
              "      <th>menu_item_CHICKEN TIKKA MASALA</th>\n",
              "      <th>menu_item_COCKTAIL CHICKEN SAMOSAS</th>\n",
              "      <th>menu_item_COCONUT CHICKEN CURRY</th>\n",
              "      <th>menu_item_FISH CURRY</th>\n",
              "      <th>menu_item_FISH KORMA</th>\n",
              "      <th>menu_item_FISH PAKORA</th>\n",
              "      <th>menu_item_GARLIC NAAN</th>\n",
              "      <th>menu_item_GOBI MANCHURIAN</th>\n",
              "      <th>menu_item_GULABJAMUN</th>\n",
              "      <th>menu_item_HARA BHARA KABOB</th>\n",
              "      <th>menu_item_KADAHI LAMB</th>\n",
              "      <th>menu_item_KADAHI PANEER</th>\n",
              "      <th>menu_item_KHEER</th>\n",
              "      <th>menu_item_LACHA PARATHA</th>\n",
              "      <th>menu_item_MALAI KOFTA</th>\n",
              "      <th>menu_item_MALPURA</th>\n",
              "      <th>menu_item_MASALA CHICKEN WINGS</th>\n",
              "      <th>menu_item_NAAN</th>\n",
              "      <th>menu_item_ONION KULCHA</th>\n",
              "      <th>menu_item_PANEER VINDALOO</th>\n",
              "      <th>menu_item_RASMALAI</th>\n",
              "      <th>menu_item_RICE</th>\n",
              "      <th>menu_item_SARSON DA SAAG</th>\n",
              "      <th>menu_item_SHAHI PANEER</th>\n",
              "      <th>menu_item_SHRIMP STRIPS</th>\n",
              "      <th>menu_item_SPICY CHICKEN BITES</th>\n",
              "      <th>menu_item_SPINACH NAAN</th>\n",
              "      <th>menu_item_TANDOORI ROTI</th>\n",
              "      <th>menu_item_TASTY FLATBREAD</th>\n",
              "      <th>menu_item_TASTY SLIDERS : CHICKEN PANEER</th>\n",
              "      <th>menu_item_TIKKA RICE BOWL : PANEER | CHICKEN</th>\n",
              "      <th>menu_item_VEGETABLE PAKORA</th>\n",
              "      <th>menu_item_VEGETABLE SAMOSA</th>\n",
              "      <th>menu_item_YELLOW DAL FRY</th>\n",
              "    </tr>\n",
              "  </thead>\n",
              "  <tbody>\n",
              "    <tr>\n",
              "      <th>0</th>\n",
              "      <td>2019-01-01 11:30:00</td>\n",
              "      <td>2</td>\n",
              "      <td>4</td>\n",
              "      <td>3.50</td>\n",
              "      <td>2</td>\n",
              "      <td>1</td>\n",
              "      <td>0</td>\n",
              "      <td>0</td>\n",
              "      <td>0</td>\n",
              "      <td>0</td>\n",
              "      <td>0</td>\n",
              "      <td>0</td>\n",
              "      <td>1</td>\n",
              "      <td>0</td>\n",
              "      <td>0</td>\n",
              "      <td>0</td>\n",
              "      <td>0</td>\n",
              "      <td>0</td>\n",
              "      <td>0</td>\n",
              "      <td>0</td>\n",
              "      <td>0</td>\n",
              "      <td>0</td>\n",
              "      <td>0</td>\n",
              "      <td>0</td>\n",
              "      <td>0</td>\n",
              "      <td>0</td>\n",
              "      <td>0</td>\n",
              "      <td>0</td>\n",
              "      <td>0</td>\n",
              "      <td>0</td>\n",
              "      <td>0</td>\n",
              "      <td>0</td>\n",
              "      <td>0</td>\n",
              "      <td>0</td>\n",
              "      <td>0</td>\n",
              "      <td>0</td>\n",
              "      <td>0</td>\n",
              "      <td>0</td>\n",
              "      <td>0</td>\n",
              "      <td>0</td>\n",
              "      <td>...</td>\n",
              "      <td>0</td>\n",
              "      <td>0</td>\n",
              "      <td>0</td>\n",
              "      <td>0</td>\n",
              "      <td>0</td>\n",
              "      <td>0</td>\n",
              "      <td>0</td>\n",
              "      <td>0</td>\n",
              "      <td>0</td>\n",
              "      <td>0</td>\n",
              "      <td>0</td>\n",
              "      <td>0</td>\n",
              "      <td>1</td>\n",
              "      <td>0</td>\n",
              "      <td>0</td>\n",
              "      <td>0</td>\n",
              "      <td>0</td>\n",
              "      <td>0</td>\n",
              "      <td>0</td>\n",
              "      <td>0</td>\n",
              "      <td>0</td>\n",
              "      <td>0</td>\n",
              "      <td>0</td>\n",
              "      <td>0</td>\n",
              "      <td>0</td>\n",
              "      <td>0</td>\n",
              "      <td>0</td>\n",
              "      <td>0</td>\n",
              "      <td>0</td>\n",
              "      <td>0</td>\n",
              "      <td>0</td>\n",
              "      <td>0</td>\n",
              "      <td>0</td>\n",
              "      <td>0</td>\n",
              "      <td>0</td>\n",
              "      <td>0</td>\n",
              "      <td>0</td>\n",
              "      <td>0</td>\n",
              "      <td>0</td>\n",
              "      <td>0</td>\n",
              "    </tr>\n",
              "    <tr>\n",
              "      <th>1</th>\n",
              "      <td>2019-01-01 11:30:00</td>\n",
              "      <td>2</td>\n",
              "      <td>1</td>\n",
              "      <td>16.00</td>\n",
              "      <td>2</td>\n",
              "      <td>1</td>\n",
              "      <td>0</td>\n",
              "      <td>0</td>\n",
              "      <td>1</td>\n",
              "      <td>0</td>\n",
              "      <td>0</td>\n",
              "      <td>0</td>\n",
              "      <td>0</td>\n",
              "      <td>0</td>\n",
              "      <td>0</td>\n",
              "      <td>0</td>\n",
              "      <td>0</td>\n",
              "      <td>0</td>\n",
              "      <td>0</td>\n",
              "      <td>0</td>\n",
              "      <td>0</td>\n",
              "      <td>0</td>\n",
              "      <td>0</td>\n",
              "      <td>0</td>\n",
              "      <td>0</td>\n",
              "      <td>0</td>\n",
              "      <td>0</td>\n",
              "      <td>0</td>\n",
              "      <td>0</td>\n",
              "      <td>0</td>\n",
              "      <td>0</td>\n",
              "      <td>0</td>\n",
              "      <td>0</td>\n",
              "      <td>0</td>\n",
              "      <td>0</td>\n",
              "      <td>0</td>\n",
              "      <td>0</td>\n",
              "      <td>0</td>\n",
              "      <td>1</td>\n",
              "      <td>0</td>\n",
              "      <td>...</td>\n",
              "      <td>0</td>\n",
              "      <td>0</td>\n",
              "      <td>0</td>\n",
              "      <td>0</td>\n",
              "      <td>0</td>\n",
              "      <td>0</td>\n",
              "      <td>0</td>\n",
              "      <td>0</td>\n",
              "      <td>0</td>\n",
              "      <td>0</td>\n",
              "      <td>0</td>\n",
              "      <td>0</td>\n",
              "      <td>0</td>\n",
              "      <td>0</td>\n",
              "      <td>0</td>\n",
              "      <td>0</td>\n",
              "      <td>0</td>\n",
              "      <td>0</td>\n",
              "      <td>0</td>\n",
              "      <td>0</td>\n",
              "      <td>1</td>\n",
              "      <td>0</td>\n",
              "      <td>0</td>\n",
              "      <td>0</td>\n",
              "      <td>0</td>\n",
              "      <td>0</td>\n",
              "      <td>0</td>\n",
              "      <td>0</td>\n",
              "      <td>0</td>\n",
              "      <td>0</td>\n",
              "      <td>0</td>\n",
              "      <td>0</td>\n",
              "      <td>0</td>\n",
              "      <td>0</td>\n",
              "      <td>0</td>\n",
              "      <td>0</td>\n",
              "      <td>0</td>\n",
              "      <td>0</td>\n",
              "      <td>0</td>\n",
              "      <td>0</td>\n",
              "    </tr>\n",
              "    <tr>\n",
              "      <th>2</th>\n",
              "      <td>2019-01-01 11:30:00</td>\n",
              "      <td>2</td>\n",
              "      <td>5</td>\n",
              "      <td>15.00</td>\n",
              "      <td>1</td>\n",
              "      <td>1</td>\n",
              "      <td>0</td>\n",
              "      <td>0</td>\n",
              "      <td>0</td>\n",
              "      <td>0</td>\n",
              "      <td>0</td>\n",
              "      <td>0</td>\n",
              "      <td>0</td>\n",
              "      <td>0</td>\n",
              "      <td>0</td>\n",
              "      <td>0</td>\n",
              "      <td>0</td>\n",
              "      <td>0</td>\n",
              "      <td>0</td>\n",
              "      <td>0</td>\n",
              "      <td>1</td>\n",
              "      <td>0</td>\n",
              "      <td>0</td>\n",
              "      <td>0</td>\n",
              "      <td>0</td>\n",
              "      <td>0</td>\n",
              "      <td>0</td>\n",
              "      <td>0</td>\n",
              "      <td>0</td>\n",
              "      <td>0</td>\n",
              "      <td>0</td>\n",
              "      <td>0</td>\n",
              "      <td>0</td>\n",
              "      <td>0</td>\n",
              "      <td>0</td>\n",
              "      <td>0</td>\n",
              "      <td>0</td>\n",
              "      <td>0</td>\n",
              "      <td>1</td>\n",
              "      <td>0</td>\n",
              "      <td>...</td>\n",
              "      <td>0</td>\n",
              "      <td>0</td>\n",
              "      <td>0</td>\n",
              "      <td>0</td>\n",
              "      <td>0</td>\n",
              "      <td>0</td>\n",
              "      <td>0</td>\n",
              "      <td>0</td>\n",
              "      <td>0</td>\n",
              "      <td>0</td>\n",
              "      <td>0</td>\n",
              "      <td>0</td>\n",
              "      <td>0</td>\n",
              "      <td>0</td>\n",
              "      <td>0</td>\n",
              "      <td>0</td>\n",
              "      <td>0</td>\n",
              "      <td>0</td>\n",
              "      <td>0</td>\n",
              "      <td>0</td>\n",
              "      <td>0</td>\n",
              "      <td>0</td>\n",
              "      <td>0</td>\n",
              "      <td>0</td>\n",
              "      <td>0</td>\n",
              "      <td>0</td>\n",
              "      <td>0</td>\n",
              "      <td>0</td>\n",
              "      <td>1</td>\n",
              "      <td>0</td>\n",
              "      <td>0</td>\n",
              "      <td>0</td>\n",
              "      <td>0</td>\n",
              "      <td>0</td>\n",
              "      <td>0</td>\n",
              "      <td>0</td>\n",
              "      <td>0</td>\n",
              "      <td>0</td>\n",
              "      <td>0</td>\n",
              "      <td>0</td>\n",
              "    </tr>\n",
              "    <tr>\n",
              "      <th>3</th>\n",
              "      <td>2019-01-01 11:35:00</td>\n",
              "      <td>2</td>\n",
              "      <td>5</td>\n",
              "      <td>2.75</td>\n",
              "      <td>1</td>\n",
              "      <td>1</td>\n",
              "      <td>0</td>\n",
              "      <td>0</td>\n",
              "      <td>0</td>\n",
              "      <td>0</td>\n",
              "      <td>0</td>\n",
              "      <td>0</td>\n",
              "      <td>0</td>\n",
              "      <td>0</td>\n",
              "      <td>0</td>\n",
              "      <td>0</td>\n",
              "      <td>0</td>\n",
              "      <td>0</td>\n",
              "      <td>0</td>\n",
              "      <td>0</td>\n",
              "      <td>0</td>\n",
              "      <td>0</td>\n",
              "      <td>0</td>\n",
              "      <td>0</td>\n",
              "      <td>0</td>\n",
              "      <td>0</td>\n",
              "      <td>0</td>\n",
              "      <td>0</td>\n",
              "      <td>0</td>\n",
              "      <td>0</td>\n",
              "      <td>1</td>\n",
              "      <td>0</td>\n",
              "      <td>0</td>\n",
              "      <td>0</td>\n",
              "      <td>0</td>\n",
              "      <td>0</td>\n",
              "      <td>0</td>\n",
              "      <td>0</td>\n",
              "      <td>0</td>\n",
              "      <td>0</td>\n",
              "      <td>...</td>\n",
              "      <td>0</td>\n",
              "      <td>0</td>\n",
              "      <td>0</td>\n",
              "      <td>0</td>\n",
              "      <td>0</td>\n",
              "      <td>0</td>\n",
              "      <td>0</td>\n",
              "      <td>0</td>\n",
              "      <td>0</td>\n",
              "      <td>0</td>\n",
              "      <td>0</td>\n",
              "      <td>0</td>\n",
              "      <td>0</td>\n",
              "      <td>0</td>\n",
              "      <td>0</td>\n",
              "      <td>0</td>\n",
              "      <td>0</td>\n",
              "      <td>0</td>\n",
              "      <td>0</td>\n",
              "      <td>0</td>\n",
              "      <td>0</td>\n",
              "      <td>0</td>\n",
              "      <td>0</td>\n",
              "      <td>1</td>\n",
              "      <td>0</td>\n",
              "      <td>0</td>\n",
              "      <td>0</td>\n",
              "      <td>0</td>\n",
              "      <td>0</td>\n",
              "      <td>0</td>\n",
              "      <td>0</td>\n",
              "      <td>0</td>\n",
              "      <td>0</td>\n",
              "      <td>0</td>\n",
              "      <td>0</td>\n",
              "      <td>0</td>\n",
              "      <td>0</td>\n",
              "      <td>0</td>\n",
              "      <td>0</td>\n",
              "      <td>0</td>\n",
              "    </tr>\n",
              "    <tr>\n",
              "      <th>4</th>\n",
              "      <td>2019-01-01 11:35:00</td>\n",
              "      <td>2</td>\n",
              "      <td>2</td>\n",
              "      <td>2.75</td>\n",
              "      <td>1</td>\n",
              "      <td>1</td>\n",
              "      <td>0</td>\n",
              "      <td>0</td>\n",
              "      <td>0</td>\n",
              "      <td>0</td>\n",
              "      <td>0</td>\n",
              "      <td>0</td>\n",
              "      <td>0</td>\n",
              "      <td>0</td>\n",
              "      <td>0</td>\n",
              "      <td>0</td>\n",
              "      <td>0</td>\n",
              "      <td>0</td>\n",
              "      <td>0</td>\n",
              "      <td>0</td>\n",
              "      <td>0</td>\n",
              "      <td>1</td>\n",
              "      <td>0</td>\n",
              "      <td>0</td>\n",
              "      <td>0</td>\n",
              "      <td>0</td>\n",
              "      <td>0</td>\n",
              "      <td>0</td>\n",
              "      <td>0</td>\n",
              "      <td>0</td>\n",
              "      <td>0</td>\n",
              "      <td>0</td>\n",
              "      <td>0</td>\n",
              "      <td>0</td>\n",
              "      <td>0</td>\n",
              "      <td>0</td>\n",
              "      <td>0</td>\n",
              "      <td>0</td>\n",
              "      <td>0</td>\n",
              "      <td>0</td>\n",
              "      <td>...</td>\n",
              "      <td>0</td>\n",
              "      <td>0</td>\n",
              "      <td>0</td>\n",
              "      <td>0</td>\n",
              "      <td>0</td>\n",
              "      <td>0</td>\n",
              "      <td>0</td>\n",
              "      <td>0</td>\n",
              "      <td>0</td>\n",
              "      <td>0</td>\n",
              "      <td>0</td>\n",
              "      <td>0</td>\n",
              "      <td>0</td>\n",
              "      <td>0</td>\n",
              "      <td>0</td>\n",
              "      <td>0</td>\n",
              "      <td>0</td>\n",
              "      <td>0</td>\n",
              "      <td>0</td>\n",
              "      <td>0</td>\n",
              "      <td>0</td>\n",
              "      <td>0</td>\n",
              "      <td>0</td>\n",
              "      <td>1</td>\n",
              "      <td>0</td>\n",
              "      <td>0</td>\n",
              "      <td>0</td>\n",
              "      <td>0</td>\n",
              "      <td>0</td>\n",
              "      <td>0</td>\n",
              "      <td>0</td>\n",
              "      <td>0</td>\n",
              "      <td>0</td>\n",
              "      <td>0</td>\n",
              "      <td>0</td>\n",
              "      <td>0</td>\n",
              "      <td>0</td>\n",
              "      <td>0</td>\n",
              "      <td>0</td>\n",
              "      <td>0</td>\n",
              "    </tr>\n",
              "  </tbody>\n",
              "</table>\n",
              "<p>5 rows × 81 columns</p>\n",
              "</div>"
            ],
            "text/plain": [
              "                  dts  ...  menu_item_YELLOW DAL FRY\n",
              "0 2019-01-01 11:30:00  ...                         0\n",
              "1 2019-01-01 11:30:00  ...                         0\n",
              "2 2019-01-01 11:30:00  ...                         0\n",
              "3 2019-01-01 11:35:00  ...                         0\n",
              "4 2019-01-01 11:35:00  ...                         0\n",
              "\n",
              "[5 rows x 81 columns]"
            ]
          },
          "metadata": {
            "tags": []
          },
          "execution_count": 14
        }
      ]
    },
    {
      "cell_type": "markdown",
      "metadata": {
        "id": "6_jPgduIgiRb",
        "colab_type": "text"
      },
      "source": [
        "## Scaling"
      ]
    },
    {
      "cell_type": "code",
      "metadata": {
        "id": "NYn1MG_KghHj",
        "colab_type": "code",
        "colab": {
          "base_uri": "https://localhost:8080/",
          "height": 0
        },
        "outputId": "3c72ecec-d10b-40d5-b72b-ffaf177fd487"
      },
      "source": [
        "from sklearn.preprocessing import MinMaxScaler\n",
        "mx_scaler = MinMaxScaler()\n",
        "final_df2 = mx_scaler.fit_transform(df_new.drop(columns = ['item_qty','dts']))\n",
        "final_df2 = pd.DataFrame(final_df2, columns=df_new.drop(columns = ['item_qty','dts']).columns)\n",
        "print(final_df2.head())"
      ],
      "execution_count": 15,
      "outputs": [
        {
          "output_type": "stream",
          "text": [
            "    weekday  party_size  ...  menu_item_VEGETABLE SAMOSA  menu_item_YELLOW DAL FRY\n",
            "0  0.166667        0.75  ...                         0.0                       0.0\n",
            "1  0.166667        0.00  ...                         0.0                       0.0\n",
            "2  0.166667        1.00  ...                         0.0                       0.0\n",
            "3  0.166667        1.00  ...                         0.0                       0.0\n",
            "4  0.166667        0.25  ...                         0.0                       0.0\n",
            "\n",
            "[5 rows x 79 columns]\n"
          ],
          "name": "stdout"
        }
      ]
    },
    {
      "cell_type": "markdown",
      "metadata": {
        "id": "21pJGDcnho8F",
        "colab_type": "text"
      },
      "source": [
        "## Train Test Split"
      ]
    },
    {
      "cell_type": "code",
      "metadata": {
        "id": "FUTpC1tAhHP5",
        "colab_type": "code",
        "colab": {
          "base_uri": "https://localhost:8080/",
          "height": 0
        },
        "outputId": "1a3676e5-057c-4c86-96c0-663f66fec3f5"
      },
      "source": [
        "from sklearn.model_selection import train_test_split\n",
        "X = final_df2\n",
        "y = df_new['item_qty']\n",
        "X_train, X_test, y_train, y_test = train_test_split(X, y, test_size=0.3, random_state=101, stratify= y)\n",
        "print(y_train.value_counts())\n",
        "print(y_test.value_counts())"
      ],
      "execution_count": 16,
      "outputs": [
        {
          "output_type": "stream",
          "text": [
            "1    26028\n",
            "2    14297\n",
            "3     1251\n",
            "4      428\n",
            "Name: item_qty, dtype: int64\n",
            "1    11156\n",
            "2     6127\n",
            "3      536\n",
            "4      184\n",
            "Name: item_qty, dtype: int64\n"
          ],
          "name": "stdout"
        }
      ]
    },
    {
      "cell_type": "markdown",
      "metadata": {
        "id": "3qg7W7D8hr3Z",
        "colab_type": "text"
      },
      "source": [
        "# Algorithms"
      ]
    },
    {
      "cell_type": "markdown",
      "metadata": {
        "id": "RC7xxjBQh1pk",
        "colab_type": "text"
      },
      "source": [
        "## 1. Decision Tree:"
      ]
    },
    {
      "cell_type": "code",
      "metadata": {
        "id": "ViinDrj4hd-C",
        "colab_type": "code",
        "colab": {
          "base_uri": "https://localhost:8080/",
          "height": 0
        },
        "outputId": "395cbc79-5714-4978-a4e8-e07a57b5ff05"
      },
      "source": [
        "from sklearn.tree import DecisionTreeClassifier\n",
        "from sklearn.metrics import accuracy_score, classification_report, confusion_matrix\n",
        "dt = DecisionTreeClassifier(random_state=101)\n",
        "dt.fit(X_train, y_train)\n",
        "y_pred = dt.predict(X_test)\n",
        "print(accuracy_score(y_test, y_pred))\n",
        "print(confusion_matrix(y_test, y_pred))\n",
        "print(classification_report(y_test, y_pred))"
      ],
      "execution_count": 17,
      "outputs": [
        {
          "output_type": "stream",
          "text": [
            "0.985280231072599\n",
            "[[10967   189     0     0]\n",
            " [   76  6051     0     0]\n",
            " [    0     0   536     0]\n",
            " [    0     0     0   184]]\n",
            "              precision    recall  f1-score   support\n",
            "\n",
            "           1       0.99      0.98      0.99     11156\n",
            "           2       0.97      0.99      0.98      6127\n",
            "           3       1.00      1.00      1.00       536\n",
            "           4       1.00      1.00      1.00       184\n",
            "\n",
            "    accuracy                           0.99     18003\n",
            "   macro avg       0.99      0.99      0.99     18003\n",
            "weighted avg       0.99      0.99      0.99     18003\n",
            "\n"
          ],
          "name": "stdout"
        }
      ]
    },
    {
      "cell_type": "markdown",
      "metadata": {
        "id": "kvSrb0qph5QB",
        "colab_type": "text"
      },
      "source": [
        "## 2. Random Forest:"
      ]
    },
    {
      "cell_type": "code",
      "metadata": {
        "id": "dBm2iyo3hz3e",
        "colab_type": "code",
        "colab": {
          "base_uri": "https://localhost:8080/",
          "height": 0
        },
        "outputId": "cef7de53-66e6-43f4-ac60-a5760b94226f"
      },
      "source": [
        "from sklearn.ensemble import RandomForestClassifier\n",
        "rf = RandomForestClassifier(n_estimators= 500, random_state= 101)\n",
        "rf.fit(X_train,y_train)\n",
        "y_pred = rf.predict(X_test)\n",
        "print(accuracy_score(y_test, y_pred))\n",
        "print(confusion_matrix(y_test, y_pred))\n",
        "print(classification_report(y_test, y_pred))"
      ],
      "execution_count": 18,
      "outputs": [
        {
          "output_type": "stream",
          "text": [
            "0.9853357773704383\n",
            "[[10957   199     0     0]\n",
            " [   65  6062     0     0]\n",
            " [    0     0   536     0]\n",
            " [    0     0     0   184]]\n",
            "              precision    recall  f1-score   support\n",
            "\n",
            "           1       0.99      0.98      0.99     11156\n",
            "           2       0.97      0.99      0.98      6127\n",
            "           3       1.00      1.00      1.00       536\n",
            "           4       1.00      1.00      1.00       184\n",
            "\n",
            "    accuracy                           0.99     18003\n",
            "   macro avg       0.99      0.99      0.99     18003\n",
            "weighted avg       0.99      0.99      0.99     18003\n",
            "\n"
          ],
          "name": "stdout"
        }
      ]
    },
    {
      "cell_type": "markdown",
      "metadata": {
        "id": "-ndNldhXiCdA",
        "colab_type": "text"
      },
      "source": [
        "## 3.Support Vector Classifier"
      ]
    },
    {
      "cell_type": "code",
      "metadata": {
        "id": "x5R7_c-Dh-QX",
        "colab_type": "code",
        "colab": {
          "base_uri": "https://localhost:8080/",
          "height": 0
        },
        "outputId": "7b7dbfd6-4d08-4756-e265-738dff0dd48e"
      },
      "source": [
        "from sklearn.svm import SVC\n",
        "svc_clf = SVC()\n",
        "svc_clf.fit(X_train,y_train)\n",
        "y_pred = svc_clf.predict(X_test)\n",
        "print(accuracy_score(y_test, y_pred))\n",
        "print(confusion_matrix(y_test, y_pred))\n",
        "print(classification_report(y_test, y_pred))"
      ],
      "execution_count": 19,
      "outputs": [
        {
          "output_type": "stream",
          "text": [
            "0.9834472032439038\n",
            "[[10962   194     0     0]\n",
            " [  104  6023     0     0]\n",
            " [    0     0   536     0]\n",
            " [    0     0     0   184]]\n",
            "              precision    recall  f1-score   support\n",
            "\n",
            "           1       0.99      0.98      0.99     11156\n",
            "           2       0.97      0.98      0.98      6127\n",
            "           3       1.00      1.00      1.00       536\n",
            "           4       1.00      1.00      1.00       184\n",
            "\n",
            "    accuracy                           0.98     18003\n",
            "   macro avg       0.99      0.99      0.99     18003\n",
            "weighted avg       0.98      0.98      0.98     18003\n",
            "\n"
          ],
          "name": "stdout"
        }
      ]
    },
    {
      "cell_type": "markdown",
      "metadata": {
        "id": "-Z43mic9iJmQ",
        "colab_type": "text"
      },
      "source": [
        "## 4. Gausian NB"
      ]
    },
    {
      "cell_type": "code",
      "metadata": {
        "id": "H8iK1m_biKPH",
        "colab_type": "code",
        "colab": {
          "base_uri": "https://localhost:8080/",
          "height": 0
        },
        "outputId": "4b0fb40d-73ab-4dc9-ae6f-b60c17dea092"
      },
      "source": [
        "from sklearn.naive_bayes import GaussianNB\n",
        "nb = GaussianNB()\n",
        "nb.fit(X_train,y_train)\n",
        "y_pred = nb.predict(X_test)\n",
        "print(accuracy_score(y_test, y_pred))\n",
        "print(confusion_matrix(y_test, y_pred))\n",
        "print(classification_report(y_test, y_pred))"
      ],
      "execution_count": 20,
      "outputs": [
        {
          "output_type": "stream",
          "text": [
            "0.7144920291062601\n",
            "[[6265 4602  289    0]\n",
            " [   0 5878  249    0]\n",
            " [   0    0  536    0]\n",
            " [   0    0    0  184]]\n",
            "              precision    recall  f1-score   support\n",
            "\n",
            "           1       1.00      0.56      0.72     11156\n",
            "           2       0.56      0.96      0.71      6127\n",
            "           3       0.50      1.00      0.67       536\n",
            "           4       1.00      1.00      1.00       184\n",
            "\n",
            "    accuracy                           0.71     18003\n",
            "   macro avg       0.76      0.88      0.77     18003\n",
            "weighted avg       0.84      0.71      0.72     18003\n",
            "\n"
          ],
          "name": "stdout"
        }
      ]
    },
    {
      "cell_type": "markdown",
      "metadata": {
        "id": "a7W3nAWOiS1v",
        "colab_type": "text"
      },
      "source": [
        "## 5. KNN"
      ]
    },
    {
      "cell_type": "code",
      "metadata": {
        "id": "QvO_Jg1oiLBh",
        "colab_type": "code",
        "colab": {
          "base_uri": "https://localhost:8080/",
          "height": 0
        },
        "outputId": "e4d3e171-c785-472f-cc80-f117d021356a"
      },
      "source": [
        "from sklearn.neighbors  import KNeighborsClassifier\n",
        "knn = KNeighborsClassifier(n_neighbors=3)\n",
        "knn.fit(X_train,y_train)\n",
        "y_pred = knn.predict(X_test)\n",
        "print(accuracy_score(y_test, y_pred))\n",
        "print(confusion_matrix(y_test, y_pred))\n",
        "print(classification_report(y_test, y_pred))"
      ],
      "execution_count": 21,
      "outputs": [
        {
          "output_type": "stream",
          "text": [
            "0.9832250180525468\n",
            "[[10982   174     0     0]\n",
            " [  128  5999     0     0]\n",
            " [    0     0   536     0]\n",
            " [    0     0     0   184]]\n",
            "              precision    recall  f1-score   support\n",
            "\n",
            "           1       0.99      0.98      0.99     11156\n",
            "           2       0.97      0.98      0.98      6127\n",
            "           3       1.00      1.00      1.00       536\n",
            "           4       1.00      1.00      1.00       184\n",
            "\n",
            "    accuracy                           0.98     18003\n",
            "   macro avg       0.99      0.99      0.99     18003\n",
            "weighted avg       0.98      0.98      0.98     18003\n",
            "\n"
          ],
          "name": "stdout"
        }
      ]
    },
    {
      "cell_type": "code",
      "metadata": {
        "id": "vH-xyPydiWC2",
        "colab_type": "code",
        "colab": {}
      },
      "source": [
        ""
      ],
      "execution_count": 21,
      "outputs": []
    },
    {
      "cell_type": "markdown",
      "metadata": {
        "id": "jp-fGKfjiYqG",
        "colab_type": "text"
      },
      "source": [
        "# Meta Algorithms"
      ]
    },
    {
      "cell_type": "markdown",
      "metadata": {
        "id": "621agJFbicTk",
        "colab_type": "text"
      },
      "source": [
        "## 1. Voting Classifier"
      ]
    },
    {
      "cell_type": "code",
      "metadata": {
        "id": "zKu3omhaiaID",
        "colab_type": "code",
        "colab": {
          "base_uri": "https://localhost:8080/",
          "height": 0
        },
        "outputId": "918821dc-0cc2-4ed5-d61b-ec4774d3806c"
      },
      "source": [
        "from sklearn.ensemble import VotingClassifier\n",
        "nb = GaussianNB()\n",
        "knn = KNeighborsClassifier()\n",
        "dt = DecisionTreeClassifier(random_state=101)\n",
        "# Define a list called classifier that contains the tuples (classifier_name, classifier)\n",
        "classifiers = [('GaussianNB', nb),\n",
        "('K Nearest Neighbours', knn),\n",
        "('Classification Tree', dt)]\n",
        "# Iterate over the defined list of tuples containing the classifiers\n",
        "for clf_name, clf in classifiers:\n",
        "  clf.fit(X_train, y_train)\n",
        "  y_pred = clf.predict(X_test)\n",
        "  print('{:s} : {:.3f}'.format(clf_name, accuracy_score(y_test, y_pred)))\n",
        "\n",
        "vc = VotingClassifier(estimators=classifiers)\n",
        "vc.fit(X_train, y_train)\n",
        "y_pred = vc.predict(X_test)\n",
        "print('Voting Classifier: {:.3f}'.format(accuracy_score(y_test, y_pred)))"
      ],
      "execution_count": 22,
      "outputs": [
        {
          "output_type": "stream",
          "text": [
            "GaussianNB : 0.714\n",
            "K Nearest Neighbours : 0.983\n",
            "Classification Tree : 0.985\n",
            "Voting Classifier: 0.985\n"
          ],
          "name": "stdout"
        }
      ]
    },
    {
      "cell_type": "markdown",
      "metadata": {
        "id": "tfSw6_Vpii2l",
        "colab_type": "text"
      },
      "source": [
        "## 2. Bagging Classifier"
      ]
    },
    {
      "cell_type": "code",
      "metadata": {
        "id": "47MiQcT8if-B",
        "colab_type": "code",
        "colab": {
          "base_uri": "https://localhost:8080/",
          "height": 0
        },
        "outputId": "572426a3-0740-46f3-dc64-785e2c245656"
      },
      "source": [
        "from sklearn.ensemble import BaggingClassifier\n",
        "dt = DecisionTreeClassifier(random_state=101)\n",
        "bc = BaggingClassifier(base_estimator=dt, n_estimators=100, n_jobs=-1)\n",
        "bc.fit(X_train, y_train)\n",
        "y_pred = bc.predict(X_test)\n",
        "accuracy = accuracy_score(y_test, y_pred)\n",
        "print('Accuracy of Bagging Classifier: {:.3f}'.format(accuracy))"
      ],
      "execution_count": 23,
      "outputs": [
        {
          "output_type": "stream",
          "text": [
            "Accuracy of Bagging Classifier: 0.985\n"
          ],
          "name": "stdout"
        }
      ]
    },
    {
      "cell_type": "markdown",
      "metadata": {
        "id": "XKuKPiB5iq_H",
        "colab_type": "text"
      },
      "source": [
        "## 3. AdaBoost Classifier"
      ]
    },
    {
      "cell_type": "code",
      "metadata": {
        "id": "Lz8tJkr6ioWv",
        "colab_type": "code",
        "colab": {
          "base_uri": "https://localhost:8080/",
          "height": 0
        },
        "outputId": "76d98bbd-08b4-42c1-b223-11b3b280a997"
      },
      "source": [
        "from sklearn.ensemble import AdaBoostClassifier\n",
        "dt = DecisionTreeClassifier(random_state=101)\n",
        "abc = AdaBoostClassifier(base_estimator=dt, n_estimators=50)\n",
        "abc.fit(X_train, y_train)\n",
        "y_pred = bc.predict(X_test)\n",
        "accuracy = accuracy_score(y_test, y_pred)\n",
        "print('Accuracy of Bagging Classifier: {:.3f}'.format(accuracy))"
      ],
      "execution_count": 24,
      "outputs": [
        {
          "output_type": "stream",
          "text": [
            "Accuracy of Bagging Classifier: 0.985\n"
          ],
          "name": "stdout"
        }
      ]
    },
    {
      "cell_type": "markdown",
      "metadata": {
        "id": "D4Yh5yBJi1rv",
        "colab_type": "text"
      },
      "source": [
        "## 4. XGBoost Classifier"
      ]
    },
    {
      "cell_type": "code",
      "metadata": {
        "id": "PJKDsm0ai3EV",
        "colab_type": "code",
        "colab": {
          "base_uri": "https://localhost:8080/",
          "height": 0
        },
        "outputId": "f3701b10-097c-449d-9c61-4c14d20202ff"
      },
      "source": [
        "from xgboost import XGBClassifier\n",
        "xgb = XGBClassifier()\n",
        "xgb.fit(X_train, y_train)\n",
        "y_pred = xgb.predict(X_test)\n",
        "accuracy = accuracy_score(y_test, y_pred)\n",
        "print('Accuracy of Bagging Classifier: {:.3f}'.format(accuracy))"
      ],
      "execution_count": 25,
      "outputs": [
        {
          "output_type": "stream",
          "text": [
            "Accuracy of Bagging Classifier: 0.928\n"
          ],
          "name": "stdout"
        }
      ]
    },
    {
      "cell_type": "markdown",
      "metadata": {
        "id": "AhrDmol1i7_C",
        "colab_type": "text"
      },
      "source": [
        "# Cross Validation And Hyper Parameter Tuning"
      ]
    },
    {
      "cell_type": "markdown",
      "metadata": {
        "id": "PPFHy9qEjKcW",
        "colab_type": "text"
      },
      "source": [
        "## 1. Using Randomized Search cv"
      ]
    },
    {
      "cell_type": "code",
      "metadata": {
        "id": "AKZ5bvnoi5O0",
        "colab_type": "code",
        "colab": {
          "base_uri": "https://localhost:8080/",
          "height": 119
        },
        "outputId": "1df1daca-5acd-440a-82dd-8363990e3528"
      },
      "source": [
        "\n",
        "from sklearn.model_selection import RandomizedSearchCV\n",
        "gbm_param_grid = {'n_estimators': [100, 200, 300],'max_depth': range(5,25)}\n",
        "rf = RandomForestClassifier()\n",
        "randomized_cv = RandomizedSearchCV(estimator=rf, param_distributions=gbm_param_grid, n_iter=25,random_state=101, cv=4, verbose=1, n_jobs=-1)\n",
        "randomized_cv.fit(X_train, y_train)\n",
        "print(\"Best parameters found: \",randomized_cv.best_params_)\n",
        "print(\"Best Score found: \", np.sqrt(np.abs(randomized_cv.best_score_)))"
      ],
      "execution_count": 26,
      "outputs": [
        {
          "output_type": "stream",
          "text": [
            "Fitting 4 folds for each of 25 candidates, totalling 100 fits\n"
          ],
          "name": "stdout"
        },
        {
          "output_type": "stream",
          "text": [
            "[Parallel(n_jobs=-1)]: Using backend LokyBackend with 2 concurrent workers.\n",
            "[Parallel(n_jobs=-1)]: Done  46 tasks      | elapsed:  1.5min\n",
            "[Parallel(n_jobs=-1)]: Done 100 out of 100 | elapsed:  4.1min finished\n"
          ],
          "name": "stderr"
        },
        {
          "output_type": "stream",
          "text": [
            "Best parameters found:  {'n_estimators': 100, 'max_depth': 24}\n",
            "Best Score found:  0.9926642657709682\n"
          ],
          "name": "stdout"
        }
      ]
    },
    {
      "cell_type": "markdown",
      "metadata": {
        "id": "odoD8qoJjxpL",
        "colab_type": "text"
      },
      "source": [
        "## 2. Using GridSearch CV"
      ]
    },
    {
      "cell_type": "code",
      "metadata": {
        "id": "VqYk7_J9jBZS",
        "colab_type": "code",
        "colab": {
          "base_uri": "https://localhost:8080/",
          "height": 102
        },
        "outputId": "6debc48b-9422-4912-ca4a-19e7198706ce"
      },
      "source": [
        "from sklearn.model_selection import GridSearchCV\n",
        "param_grid = {'n_estimators': [300, 400, 500],'max_depth': [24,25,26,27]}\n",
        "rf = RandomForestClassifier()\n",
        "grid_cv = GridSearchCV(estimator=rf, param_grid=param_grid, cv=4, verbose=1, n_jobs=-1)\n",
        "grid_cv.fit(X_train, y_train)\n",
        "print(\"Best parameters found: \",grid_cv.best_params_)\n",
        "print(\"Best Score found: \", np.sqrt(np.abs(grid_cv.best_score_)))"
      ],
      "execution_count": 28,
      "outputs": [
        {
          "output_type": "stream",
          "text": [
            "Fitting 4 folds for each of 12 candidates, totalling 48 fits\n"
          ],
          "name": "stdout"
        },
        {
          "output_type": "stream",
          "text": [
            "[Parallel(n_jobs=-1)]: Using backend LokyBackend with 2 concurrent workers.\n",
            "[Parallel(n_jobs=-1)]: Done  48 out of  48 | elapsed:  5.6min finished\n"
          ],
          "name": "stderr"
        },
        {
          "output_type": "stream",
          "text": [
            "Best parameters found:  {'max_depth': 27, 'n_estimators': 400}\n",
            "Best Score found:  0.9927721842631779\n"
          ],
          "name": "stdout"
        }
      ]
    }
  ]
}